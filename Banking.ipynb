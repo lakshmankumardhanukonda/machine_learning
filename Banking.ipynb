{
 "cells": [
  {
   "cell_type": "markdown",
   "metadata": {},
   "source": [
    "# BANKING"
   ]
  },
  {
   "cell_type": "markdown",
   "metadata": {},
   "source": [
    "# obtain data"
   ]
  },
  {
   "cell_type": "code",
   "execution_count": 1,
   "metadata": {
    "collapsed": true
   },
   "outputs": [],
   "source": [
    "import pandas as pd\n",
    "import numpy as np\n",
    "import seaborn as sns\n",
    "import matplotlib.pyplot as plt\n",
    "import missingno as ms\n",
    "%matplotlib inline"
   ]
  },
  {
   "cell_type": "code",
   "execution_count": 2,
   "metadata": {},
   "outputs": [
    {
     "name": "stderr",
     "output_type": "stream",
     "text": [
      "C:\\Users\\lakshman\\Anaconda3\\lib\\site-packages\\IPython\\core\\interactiveshell.py:2698: DtypeWarning: Columns (15,38) have mixed types. Specify dtype option on import or set low_memory=False.\n",
      "  interactivity=interactivity, compiler=compiler, result=result)\n"
     ]
    }
   ],
   "source": [
    "data=pd.read_csv(\"train_ml.csv\")"
   ]
  },
  {
   "cell_type": "code",
   "execution_count": 3,
   "metadata": {},
   "outputs": [
    {
     "data": {
      "text/html": [
       "<div>\n",
       "<style>\n",
       "    .dataframe thead tr:only-child th {\n",
       "        text-align: right;\n",
       "    }\n",
       "\n",
       "    .dataframe thead th {\n",
       "        text-align: left;\n",
       "    }\n",
       "\n",
       "    .dataframe tbody tr th {\n",
       "        vertical-align: top;\n",
       "    }\n",
       "</style>\n",
       "<table border=\"1\" class=\"dataframe\">\n",
       "  <thead>\n",
       "    <tr style=\"text-align: right;\">\n",
       "      <th></th>\n",
       "      <th>member_id</th>\n",
       "      <th>loan_amnt</th>\n",
       "      <th>funded_amnt</th>\n",
       "      <th>funded_amnt_inv</th>\n",
       "      <th>term</th>\n",
       "      <th>batch_enrolled</th>\n",
       "      <th>int_rate</th>\n",
       "      <th>grade</th>\n",
       "      <th>sub_grade</th>\n",
       "      <th>emp_title</th>\n",
       "      <th>...</th>\n",
       "      <th>collections_12_mths_ex_med</th>\n",
       "      <th>mths_since_last_major_derog</th>\n",
       "      <th>application_type</th>\n",
       "      <th>verification_status_joint</th>\n",
       "      <th>last_week_pay</th>\n",
       "      <th>acc_now_delinq</th>\n",
       "      <th>tot_coll_amt</th>\n",
       "      <th>tot_cur_bal</th>\n",
       "      <th>total_rev_hi_lim</th>\n",
       "      <th>loan_status</th>\n",
       "    </tr>\n",
       "  </thead>\n",
       "  <tbody>\n",
       "    <tr>\n",
       "      <th>0</th>\n",
       "      <td>70473</td>\n",
       "      <td>4350</td>\n",
       "      <td>4350</td>\n",
       "      <td>825.0</td>\n",
       "      <td>36 months</td>\n",
       "      <td>BAT4347689</td>\n",
       "      <td>8.07</td>\n",
       "      <td>A</td>\n",
       "      <td>A4</td>\n",
       "      <td>NaN</td>\n",
       "      <td>...</td>\n",
       "      <td>NaN</td>\n",
       "      <td>NaN</td>\n",
       "      <td>INDIVIDUAL</td>\n",
       "      <td>NaN</td>\n",
       "      <td>157th week</td>\n",
       "      <td>NaN</td>\n",
       "      <td>NaN</td>\n",
       "      <td>NaN</td>\n",
       "      <td>NaN</td>\n",
       "      <td>1</td>\n",
       "    </tr>\n",
       "    <tr>\n",
       "      <th>1</th>\n",
       "      <td>70735</td>\n",
       "      <td>6500</td>\n",
       "      <td>6500</td>\n",
       "      <td>0.0</td>\n",
       "      <td>36 months</td>\n",
       "      <td>BAT2331079</td>\n",
       "      <td>8.38</td>\n",
       "      <td>A</td>\n",
       "      <td>A5</td>\n",
       "      <td>NaN</td>\n",
       "      <td>...</td>\n",
       "      <td>NaN</td>\n",
       "      <td>NaN</td>\n",
       "      <td>INDIVIDUAL</td>\n",
       "      <td>NaN</td>\n",
       "      <td>157th week</td>\n",
       "      <td>NaN</td>\n",
       "      <td>NaN</td>\n",
       "      <td>NaN</td>\n",
       "      <td>NaN</td>\n",
       "      <td>1</td>\n",
       "    </tr>\n",
       "    <tr>\n",
       "      <th>2</th>\n",
       "      <td>70978</td>\n",
       "      <td>3500</td>\n",
       "      <td>3500</td>\n",
       "      <td>2225.0</td>\n",
       "      <td>36 months</td>\n",
       "      <td>BAT4347689</td>\n",
       "      <td>7.43</td>\n",
       "      <td>A</td>\n",
       "      <td>A2</td>\n",
       "      <td>self-employed</td>\n",
       "      <td>...</td>\n",
       "      <td>NaN</td>\n",
       "      <td>NaN</td>\n",
       "      <td>INDIVIDUAL</td>\n",
       "      <td>NaN</td>\n",
       "      <td>161th week</td>\n",
       "      <td>0.0</td>\n",
       "      <td>NaN</td>\n",
       "      <td>NaN</td>\n",
       "      <td>NaN</td>\n",
       "      <td>1</td>\n",
       "    </tr>\n",
       "    <tr>\n",
       "      <th>3</th>\n",
       "      <td>72816</td>\n",
       "      <td>7200</td>\n",
       "      <td>5075</td>\n",
       "      <td>350.0</td>\n",
       "      <td>36 months</td>\n",
       "      <td>BAT5869156</td>\n",
       "      <td>10.28</td>\n",
       "      <td>C</td>\n",
       "      <td>C1</td>\n",
       "      <td>NaN</td>\n",
       "      <td>...</td>\n",
       "      <td>NaN</td>\n",
       "      <td>NaN</td>\n",
       "      <td>INDIVIDUAL</td>\n",
       "      <td>NaN</td>\n",
       "      <td>157th week</td>\n",
       "      <td>NaN</td>\n",
       "      <td>NaN</td>\n",
       "      <td>NaN</td>\n",
       "      <td>NaN</td>\n",
       "      <td>1</td>\n",
       "    </tr>\n",
       "    <tr>\n",
       "      <th>4</th>\n",
       "      <td>72992</td>\n",
       "      <td>1000</td>\n",
       "      <td>1000</td>\n",
       "      <td>0.0</td>\n",
       "      <td>36 months</td>\n",
       "      <td>BAT2331079</td>\n",
       "      <td>9.64</td>\n",
       "      <td>B</td>\n",
       "      <td>B4</td>\n",
       "      <td>Halping hands company inc.</td>\n",
       "      <td>...</td>\n",
       "      <td>NaN</td>\n",
       "      <td>NaN</td>\n",
       "      <td>INDIVIDUAL</td>\n",
       "      <td>NaN</td>\n",
       "      <td>157th week</td>\n",
       "      <td>NaN</td>\n",
       "      <td>NaN</td>\n",
       "      <td>NaN</td>\n",
       "      <td>NaN</td>\n",
       "      <td>1</td>\n",
       "    </tr>\n",
       "  </tbody>\n",
       "</table>\n",
       "<p>5 rows × 45 columns</p>\n",
       "</div>"
      ],
      "text/plain": [
       "   member_id  loan_amnt  funded_amnt  funded_amnt_inv       term  \\\n",
       "0      70473       4350         4350            825.0  36 months   \n",
       "1      70735       6500         6500              0.0  36 months   \n",
       "2      70978       3500         3500           2225.0  36 months   \n",
       "3      72816       7200         5075            350.0  36 months   \n",
       "4      72992       1000         1000              0.0  36 months   \n",
       "\n",
       "  batch_enrolled  int_rate grade sub_grade                   emp_title  \\\n",
       "0     BAT4347689      8.07     A        A4                         NaN   \n",
       "1     BAT2331079      8.38     A        A5                         NaN   \n",
       "2     BAT4347689      7.43     A        A2               self-employed   \n",
       "3     BAT5869156     10.28     C        C1                         NaN   \n",
       "4     BAT2331079      9.64     B        B4  Halping hands company inc.   \n",
       "\n",
       "      ...     collections_12_mths_ex_med mths_since_last_major_derog  \\\n",
       "0     ...                            NaN                         NaN   \n",
       "1     ...                            NaN                         NaN   \n",
       "2     ...                            NaN                         NaN   \n",
       "3     ...                            NaN                         NaN   \n",
       "4     ...                            NaN                         NaN   \n",
       "\n",
       "   application_type verification_status_joint last_week_pay acc_now_delinq  \\\n",
       "0        INDIVIDUAL                       NaN    157th week            NaN   \n",
       "1        INDIVIDUAL                       NaN    157th week            NaN   \n",
       "2        INDIVIDUAL                       NaN    161th week            0.0   \n",
       "3        INDIVIDUAL                       NaN    157th week            NaN   \n",
       "4        INDIVIDUAL                       NaN    157th week            NaN   \n",
       "\n",
       "  tot_coll_amt tot_cur_bal total_rev_hi_lim loan_status  \n",
       "0          NaN         NaN              NaN           1  \n",
       "1          NaN         NaN              NaN           1  \n",
       "2          NaN         NaN              NaN           1  \n",
       "3          NaN         NaN              NaN           1  \n",
       "4          NaN         NaN              NaN           1  \n",
       "\n",
       "[5 rows x 45 columns]"
      ]
     },
     "execution_count": 3,
     "metadata": {},
     "output_type": "execute_result"
    }
   ],
   "source": [
    "data.head()"
   ]
  },
  {
   "cell_type": "code",
   "execution_count": 4,
   "metadata": {},
   "outputs": [
    {
     "data": {
      "text/html": [
       "<div>\n",
       "<style>\n",
       "    .dataframe thead tr:only-child th {\n",
       "        text-align: right;\n",
       "    }\n",
       "\n",
       "    .dataframe thead th {\n",
       "        text-align: left;\n",
       "    }\n",
       "\n",
       "    .dataframe tbody tr th {\n",
       "        vertical-align: top;\n",
       "    }\n",
       "</style>\n",
       "<table border=\"1\" class=\"dataframe\">\n",
       "  <thead>\n",
       "    <tr style=\"text-align: right;\">\n",
       "      <th></th>\n",
       "      <th>member_id</th>\n",
       "      <th>loan_amnt</th>\n",
       "      <th>funded_amnt</th>\n",
       "      <th>funded_amnt_inv</th>\n",
       "      <th>term</th>\n",
       "      <th>batch_enrolled</th>\n",
       "      <th>int_rate</th>\n",
       "      <th>grade</th>\n",
       "      <th>sub_grade</th>\n",
       "      <th>emp_title</th>\n",
       "      <th>...</th>\n",
       "      <th>collections_12_mths_ex_med</th>\n",
       "      <th>mths_since_last_major_derog</th>\n",
       "      <th>application_type</th>\n",
       "      <th>verification_status_joint</th>\n",
       "      <th>last_week_pay</th>\n",
       "      <th>acc_now_delinq</th>\n",
       "      <th>tot_coll_amt</th>\n",
       "      <th>tot_cur_bal</th>\n",
       "      <th>total_rev_hi_lim</th>\n",
       "      <th>loan_status</th>\n",
       "    </tr>\n",
       "  </thead>\n",
       "  <tbody>\n",
       "    <tr>\n",
       "      <th>425898</th>\n",
       "      <td>73519677</td>\n",
       "      <td>12500</td>\n",
       "      <td>12500</td>\n",
       "      <td>12500.0</td>\n",
       "      <td>36 months</td>\n",
       "      <td>BAT2803411</td>\n",
       "      <td>7.49</td>\n",
       "      <td>A</td>\n",
       "      <td>A4</td>\n",
       "      <td>manager</td>\n",
       "      <td>...</td>\n",
       "      <td>0.0</td>\n",
       "      <td>NaN</td>\n",
       "      <td>INDIVIDUAL</td>\n",
       "      <td>NaN</td>\n",
       "      <td>NAth week</td>\n",
       "      <td>0.0</td>\n",
       "      <td>0.0</td>\n",
       "      <td>10009.0</td>\n",
       "      <td>12400.0</td>\n",
       "      <td>0</td>\n",
       "    </tr>\n",
       "    <tr>\n",
       "      <th>425899</th>\n",
       "      <td>73519699</td>\n",
       "      <td>8000</td>\n",
       "      <td>8000</td>\n",
       "      <td>8000.0</td>\n",
       "      <td>36 months</td>\n",
       "      <td>BAT2803411</td>\n",
       "      <td>11.48</td>\n",
       "      <td>B</td>\n",
       "      <td>B5</td>\n",
       "      <td>Vendor liaison</td>\n",
       "      <td>...</td>\n",
       "      <td>0.0</td>\n",
       "      <td>75.0</td>\n",
       "      <td>INDIVIDUAL</td>\n",
       "      <td>NaN</td>\n",
       "      <td>NAth week</td>\n",
       "      <td>0.0</td>\n",
       "      <td>0.0</td>\n",
       "      <td>199696.0</td>\n",
       "      <td>18000.0</td>\n",
       "      <td>0</td>\n",
       "    </tr>\n",
       "    <tr>\n",
       "      <th>425900</th>\n",
       "      <td>73519894</td>\n",
       "      <td>15000</td>\n",
       "      <td>15000</td>\n",
       "      <td>15000.0</td>\n",
       "      <td>60 months</td>\n",
       "      <td>BAT2803411</td>\n",
       "      <td>10.78</td>\n",
       "      <td>B</td>\n",
       "      <td>B4</td>\n",
       "      <td>Senior Buyer</td>\n",
       "      <td>...</td>\n",
       "      <td>0.0</td>\n",
       "      <td>NaN</td>\n",
       "      <td>INDIVIDUAL</td>\n",
       "      <td>NaN</td>\n",
       "      <td>NAth week</td>\n",
       "      <td>0.0</td>\n",
       "      <td>0.0</td>\n",
       "      <td>224194.0</td>\n",
       "      <td>35400.0</td>\n",
       "      <td>0</td>\n",
       "    </tr>\n",
       "    <tr>\n",
       "      <th>425901</th>\n",
       "      <td>73542831</td>\n",
       "      <td>1400</td>\n",
       "      <td>1400</td>\n",
       "      <td>1400.0</td>\n",
       "      <td>36 months</td>\n",
       "      <td>BAT2803411</td>\n",
       "      <td>12.88</td>\n",
       "      <td>C</td>\n",
       "      <td>C2</td>\n",
       "      <td>Logistics Manager</td>\n",
       "      <td>...</td>\n",
       "      <td>0.0</td>\n",
       "      <td>NaN</td>\n",
       "      <td>INDIVIDUAL</td>\n",
       "      <td>NaN</td>\n",
       "      <td>NAth week</td>\n",
       "      <td>0.0</td>\n",
       "      <td>0.0</td>\n",
       "      <td>325695.0</td>\n",
       "      <td>56300.0</td>\n",
       "      <td>0</td>\n",
       "    </tr>\n",
       "    <tr>\n",
       "      <th>425902</th>\n",
       "      <td>73544841</td>\n",
       "      <td>17600</td>\n",
       "      <td>17600</td>\n",
       "      <td>17600.0</td>\n",
       "      <td>60 months</td>\n",
       "      <td>BAT2803411</td>\n",
       "      <td>19.89</td>\n",
       "      <td>E</td>\n",
       "      <td>E3</td>\n",
       "      <td>RN</td>\n",
       "      <td>...</td>\n",
       "      <td>0.0</td>\n",
       "      <td>NaN</td>\n",
       "      <td>INDIVIDUAL</td>\n",
       "      <td>NaN</td>\n",
       "      <td>NAth week</td>\n",
       "      <td>0.0</td>\n",
       "      <td>0.0</td>\n",
       "      <td>133285.0</td>\n",
       "      <td>12600.0</td>\n",
       "      <td>0</td>\n",
       "    </tr>\n",
       "  </tbody>\n",
       "</table>\n",
       "<p>5 rows × 45 columns</p>\n",
       "</div>"
      ],
      "text/plain": [
       "        member_id  loan_amnt  funded_amnt  funded_amnt_inv       term  \\\n",
       "425898   73519677      12500        12500          12500.0  36 months   \n",
       "425899   73519699       8000         8000           8000.0  36 months   \n",
       "425900   73519894      15000        15000          15000.0  60 months   \n",
       "425901   73542831       1400         1400           1400.0  36 months   \n",
       "425902   73544841      17600        17600          17600.0  60 months   \n",
       "\n",
       "       batch_enrolled  int_rate grade sub_grade          emp_title  \\\n",
       "425898     BAT2803411      7.49     A        A4            manager   \n",
       "425899     BAT2803411     11.48     B        B5     Vendor liaison   \n",
       "425900     BAT2803411     10.78     B        B4       Senior Buyer   \n",
       "425901     BAT2803411     12.88     C        C2  Logistics Manager   \n",
       "425902     BAT2803411     19.89     E        E3                 RN   \n",
       "\n",
       "           ...     collections_12_mths_ex_med mths_since_last_major_derog  \\\n",
       "425898     ...                            0.0                         NaN   \n",
       "425899     ...                            0.0                        75.0   \n",
       "425900     ...                            0.0                         NaN   \n",
       "425901     ...                            0.0                         NaN   \n",
       "425902     ...                            0.0                         NaN   \n",
       "\n",
       "        application_type verification_status_joint last_week_pay  \\\n",
       "425898        INDIVIDUAL                       NaN     NAth week   \n",
       "425899        INDIVIDUAL                       NaN     NAth week   \n",
       "425900        INDIVIDUAL                       NaN     NAth week   \n",
       "425901        INDIVIDUAL                       NaN     NAth week   \n",
       "425902        INDIVIDUAL                       NaN     NAth week   \n",
       "\n",
       "       acc_now_delinq tot_coll_amt tot_cur_bal total_rev_hi_lim loan_status  \n",
       "425898            0.0          0.0     10009.0          12400.0           0  \n",
       "425899            0.0          0.0    199696.0          18000.0           0  \n",
       "425900            0.0          0.0    224194.0          35400.0           0  \n",
       "425901            0.0          0.0    325695.0          56300.0           0  \n",
       "425902            0.0          0.0    133285.0          12600.0           0  \n",
       "\n",
       "[5 rows x 45 columns]"
      ]
     },
     "execution_count": 4,
     "metadata": {},
     "output_type": "execute_result"
    }
   ],
   "source": [
    "data.tail()"
   ]
  },
  {
   "cell_type": "code",
   "execution_count": 5,
   "metadata": {},
   "outputs": [
    {
     "data": {
      "text/plain": [
       "(425903, 45)"
      ]
     },
     "execution_count": 5,
     "metadata": {},
     "output_type": "execute_result"
    }
   ],
   "source": [
    "data.shape"
   ]
  },
  {
   "cell_type": "code",
   "execution_count": 6,
   "metadata": {},
   "outputs": [
    {
     "data": {
      "text/plain": [
       "19165635"
      ]
     },
     "execution_count": 6,
     "metadata": {},
     "output_type": "execute_result"
    }
   ],
   "source": [
    "data.size"
   ]
  },
  {
   "cell_type": "code",
   "execution_count": 7,
   "metadata": {},
   "outputs": [
    {
     "name": "stdout",
     "output_type": "stream",
     "text": [
      "<class 'pandas.core.frame.DataFrame'>\n",
      "RangeIndex: 425903 entries, 0 to 425902\n",
      "Data columns (total 45 columns):\n",
      "member_id                      425903 non-null int64\n",
      "loan_amnt                      425903 non-null int64\n",
      "funded_amnt                    425903 non-null int64\n",
      "funded_amnt_inv                425903 non-null float64\n",
      "term                           425903 non-null object\n",
      "batch_enrolled                 357642 non-null object\n",
      "int_rate                       425903 non-null float64\n",
      "grade                          425903 non-null object\n",
      "sub_grade                      425903 non-null object\n",
      "emp_title                      401427 non-null object\n",
      "emp_length                     425903 non-null object\n",
      "home_ownership                 425903 non-null object\n",
      "annual_inc                     425900 non-null float64\n",
      "verification_status            425903 non-null object\n",
      "pymnt_plan                     425903 non-null object\n",
      "desc                           60286 non-null object\n",
      "purpose                        425903 non-null object\n",
      "title                          425829 non-null object\n",
      "zip_code                       425903 non-null object\n",
      "addr_state                     425903 non-null object\n",
      "dti                            425903 non-null float64\n",
      "delinq_2yrs                    425892 non-null float64\n",
      "inq_last_6mths                 425892 non-null float64\n",
      "mths_since_last_delinq         207813 non-null float64\n",
      "mths_since_last_record         65958 non-null float64\n",
      "open_acc                       425892 non-null float64\n",
      "pub_rec                        425892 non-null float64\n",
      "revol_bal                      425903 non-null float64\n",
      "revol_util                     425672 non-null float64\n",
      "total_acc                      425892 non-null float64\n",
      "initial_list_status            425903 non-null object\n",
      "total_rec_int                  425903 non-null float64\n",
      "total_rec_late_fee             425903 non-null float64\n",
      "recoveries                     425903 non-null float64\n",
      "collection_recovery_fee        425903 non-null float64\n",
      "collections_12_mths_ex_med     425830 non-null float64\n",
      "mths_since_last_major_derog    106543 non-null float64\n",
      "application_type               425903 non-null object\n",
      "verification_status_joint      248 non-null object\n",
      "last_week_pay                  425903 non-null object\n",
      "acc_now_delinq                 425892 non-null float64\n",
      "tot_coll_amt                   392352 non-null float64\n",
      "tot_cur_bal                    392352 non-null float64\n",
      "total_rev_hi_lim               392352 non-null float64\n",
      "loan_status                    425903 non-null int64\n",
      "dtypes: float64(23), int64(4), object(18)\n",
      "memory usage: 146.2+ MB\n"
     ]
    }
   ],
   "source": [
    "data.info()"
   ]
  },
  {
   "cell_type": "code",
   "execution_count": 8,
   "metadata": {},
   "outputs": [
    {
     "data": {
      "text/html": [
       "<div>\n",
       "<style>\n",
       "    .dataframe thead tr:only-child th {\n",
       "        text-align: right;\n",
       "    }\n",
       "\n",
       "    .dataframe thead th {\n",
       "        text-align: left;\n",
       "    }\n",
       "\n",
       "    .dataframe tbody tr th {\n",
       "        vertical-align: top;\n",
       "    }\n",
       "</style>\n",
       "<table border=\"1\" class=\"dataframe\">\n",
       "  <thead>\n",
       "    <tr style=\"text-align: right;\">\n",
       "      <th></th>\n",
       "      <th>member_id</th>\n",
       "      <th>loan_amnt</th>\n",
       "      <th>funded_amnt</th>\n",
       "      <th>funded_amnt_inv</th>\n",
       "      <th>int_rate</th>\n",
       "      <th>annual_inc</th>\n",
       "      <th>dti</th>\n",
       "      <th>delinq_2yrs</th>\n",
       "      <th>inq_last_6mths</th>\n",
       "      <th>mths_since_last_delinq</th>\n",
       "      <th>...</th>\n",
       "      <th>total_rec_late_fee</th>\n",
       "      <th>recoveries</th>\n",
       "      <th>collection_recovery_fee</th>\n",
       "      <th>collections_12_mths_ex_med</th>\n",
       "      <th>mths_since_last_major_derog</th>\n",
       "      <th>acc_now_delinq</th>\n",
       "      <th>tot_coll_amt</th>\n",
       "      <th>tot_cur_bal</th>\n",
       "      <th>total_rev_hi_lim</th>\n",
       "      <th>loan_status</th>\n",
       "    </tr>\n",
       "  </thead>\n",
       "  <tbody>\n",
       "    <tr>\n",
       "      <th>count</th>\n",
       "      <td>4.259030e+05</td>\n",
       "      <td>425903.000000</td>\n",
       "      <td>425903.000000</td>\n",
       "      <td>425903.000000</td>\n",
       "      <td>425903.000000</td>\n",
       "      <td>4.259000e+05</td>\n",
       "      <td>425903.000000</td>\n",
       "      <td>425892.000000</td>\n",
       "      <td>425892.000000</td>\n",
       "      <td>207813.000000</td>\n",
       "      <td>...</td>\n",
       "      <td>425903.000000</td>\n",
       "      <td>425903.000000</td>\n",
       "      <td>425903.000000</td>\n",
       "      <td>425830.000000</td>\n",
       "      <td>106543.000000</td>\n",
       "      <td>425892.000000</td>\n",
       "      <td>392352.000000</td>\n",
       "      <td>3.923520e+05</td>\n",
       "      <td>3.923520e+05</td>\n",
       "      <td>425903.000000</td>\n",
       "    </tr>\n",
       "    <tr>\n",
       "      <th>mean</th>\n",
       "      <td>3.502441e+07</td>\n",
       "      <td>14755.873462</td>\n",
       "      <td>14742.455618</td>\n",
       "      <td>14703.380731</td>\n",
       "      <td>13.242416</td>\n",
       "      <td>7.505885e+04</td>\n",
       "      <td>18.140406</td>\n",
       "      <td>0.313880</td>\n",
       "      <td>0.693460</td>\n",
       "      <td>34.066401</td>\n",
       "      <td>...</td>\n",
       "      <td>0.399942</td>\n",
       "      <td>45.927254</td>\n",
       "      <td>4.901791</td>\n",
       "      <td>0.014222</td>\n",
       "      <td>44.196362</td>\n",
       "      <td>0.004975</td>\n",
       "      <td>215.213334</td>\n",
       "      <td>1.395269e+05</td>\n",
       "      <td>3.203371e+04</td>\n",
       "      <td>0.235500</td>\n",
       "    </tr>\n",
       "    <tr>\n",
       "      <th>std</th>\n",
       "      <td>2.410949e+07</td>\n",
       "      <td>8438.444215</td>\n",
       "      <td>8432.992986</td>\n",
       "      <td>8445.190279</td>\n",
       "      <td>4.382469</td>\n",
       "      <td>6.699008e+04</td>\n",
       "      <td>8.386781</td>\n",
       "      <td>0.856321</td>\n",
       "      <td>0.996467</td>\n",
       "      <td>21.878348</td>\n",
       "      <td>...</td>\n",
       "      <td>4.067117</td>\n",
       "      <td>413.778293</td>\n",
       "      <td>64.051409</td>\n",
       "      <td>0.131521</td>\n",
       "      <td>22.219313</td>\n",
       "      <td>0.079570</td>\n",
       "      <td>1978.439164</td>\n",
       "      <td>1.539149e+05</td>\n",
       "      <td>3.920350e+04</td>\n",
       "      <td>0.424311</td>\n",
       "    </tr>\n",
       "    <tr>\n",
       "      <th>min</th>\n",
       "      <td>7.047300e+04</td>\n",
       "      <td>500.000000</td>\n",
       "      <td>500.000000</td>\n",
       "      <td>0.000000</td>\n",
       "      <td>5.320000</td>\n",
       "      <td>1.200000e+03</td>\n",
       "      <td>0.000000</td>\n",
       "      <td>0.000000</td>\n",
       "      <td>0.000000</td>\n",
       "      <td>0.000000</td>\n",
       "      <td>...</td>\n",
       "      <td>0.000000</td>\n",
       "      <td>0.000000</td>\n",
       "      <td>0.000000</td>\n",
       "      <td>0.000000</td>\n",
       "      <td>0.000000</td>\n",
       "      <td>0.000000</td>\n",
       "      <td>0.000000</td>\n",
       "      <td>0.000000e+00</td>\n",
       "      <td>0.000000e+00</td>\n",
       "      <td>0.000000</td>\n",
       "    </tr>\n",
       "    <tr>\n",
       "      <th>25%</th>\n",
       "      <td>1.087869e+07</td>\n",
       "      <td>8000.000000</td>\n",
       "      <td>8000.000000</td>\n",
       "      <td>8000.000000</td>\n",
       "      <td>9.990000</td>\n",
       "      <td>4.500000e+04</td>\n",
       "      <td>11.930000</td>\n",
       "      <td>0.000000</td>\n",
       "      <td>0.000000</td>\n",
       "      <td>15.000000</td>\n",
       "      <td>...</td>\n",
       "      <td>0.000000</td>\n",
       "      <td>0.000000</td>\n",
       "      <td>0.000000</td>\n",
       "      <td>0.000000</td>\n",
       "      <td>27.000000</td>\n",
       "      <td>0.000000</td>\n",
       "      <td>0.000000</td>\n",
       "      <td>2.982275e+04</td>\n",
       "      <td>1.390000e+04</td>\n",
       "      <td>0.000000</td>\n",
       "    </tr>\n",
       "    <tr>\n",
       "      <th>50%</th>\n",
       "      <td>3.710672e+07</td>\n",
       "      <td>13000.000000</td>\n",
       "      <td>13000.000000</td>\n",
       "      <td>13000.000000</td>\n",
       "      <td>12.990000</td>\n",
       "      <td>6.500000e+04</td>\n",
       "      <td>17.650000</td>\n",
       "      <td>0.000000</td>\n",
       "      <td>0.000000</td>\n",
       "      <td>31.000000</td>\n",
       "      <td>...</td>\n",
       "      <td>0.000000</td>\n",
       "      <td>0.000000</td>\n",
       "      <td>0.000000</td>\n",
       "      <td>0.000000</td>\n",
       "      <td>44.000000</td>\n",
       "      <td>0.000000</td>\n",
       "      <td>0.000000</td>\n",
       "      <td>8.081850e+04</td>\n",
       "      <td>2.370000e+04</td>\n",
       "      <td>0.000000</td>\n",
       "    </tr>\n",
       "    <tr>\n",
       "      <th>75%</th>\n",
       "      <td>5.847982e+07</td>\n",
       "      <td>20000.000000</td>\n",
       "      <td>20000.000000</td>\n",
       "      <td>20000.000000</td>\n",
       "      <td>16.200000</td>\n",
       "      <td>9.000000e+04</td>\n",
       "      <td>23.950000</td>\n",
       "      <td>0.000000</td>\n",
       "      <td>1.000000</td>\n",
       "      <td>50.000000</td>\n",
       "      <td>...</td>\n",
       "      <td>0.000000</td>\n",
       "      <td>0.000000</td>\n",
       "      <td>0.000000</td>\n",
       "      <td>0.000000</td>\n",
       "      <td>62.000000</td>\n",
       "      <td>0.000000</td>\n",
       "      <td>0.000000</td>\n",
       "      <td>2.083942e+05</td>\n",
       "      <td>3.980000e+04</td>\n",
       "      <td>0.000000</td>\n",
       "    </tr>\n",
       "    <tr>\n",
       "      <th>max</th>\n",
       "      <td>7.354484e+07</td>\n",
       "      <td>35000.000000</td>\n",
       "      <td>35000.000000</td>\n",
       "      <td>35000.000000</td>\n",
       "      <td>28.990000</td>\n",
       "      <td>9.500000e+06</td>\n",
       "      <td>672.520000</td>\n",
       "      <td>30.000000</td>\n",
       "      <td>31.000000</td>\n",
       "      <td>180.000000</td>\n",
       "      <td>...</td>\n",
       "      <td>294.680000</td>\n",
       "      <td>33520.270000</td>\n",
       "      <td>6972.590000</td>\n",
       "      <td>14.000000</td>\n",
       "      <td>180.000000</td>\n",
       "      <td>14.000000</td>\n",
       "      <td>496651.000000</td>\n",
       "      <td>8.000078e+06</td>\n",
       "      <td>9.999999e+06</td>\n",
       "      <td>1.000000</td>\n",
       "    </tr>\n",
       "  </tbody>\n",
       "</table>\n",
       "<p>8 rows × 27 columns</p>\n",
       "</div>"
      ],
      "text/plain": [
       "          member_id      loan_amnt    funded_amnt  funded_amnt_inv  \\\n",
       "count  4.259030e+05  425903.000000  425903.000000    425903.000000   \n",
       "mean   3.502441e+07   14755.873462   14742.455618     14703.380731   \n",
       "std    2.410949e+07    8438.444215    8432.992986      8445.190279   \n",
       "min    7.047300e+04     500.000000     500.000000         0.000000   \n",
       "25%    1.087869e+07    8000.000000    8000.000000      8000.000000   \n",
       "50%    3.710672e+07   13000.000000   13000.000000     13000.000000   \n",
       "75%    5.847982e+07   20000.000000   20000.000000     20000.000000   \n",
       "max    7.354484e+07   35000.000000   35000.000000     35000.000000   \n",
       "\n",
       "            int_rate    annual_inc            dti    delinq_2yrs  \\\n",
       "count  425903.000000  4.259000e+05  425903.000000  425892.000000   \n",
       "mean       13.242416  7.505885e+04      18.140406       0.313880   \n",
       "std         4.382469  6.699008e+04       8.386781       0.856321   \n",
       "min         5.320000  1.200000e+03       0.000000       0.000000   \n",
       "25%         9.990000  4.500000e+04      11.930000       0.000000   \n",
       "50%        12.990000  6.500000e+04      17.650000       0.000000   \n",
       "75%        16.200000  9.000000e+04      23.950000       0.000000   \n",
       "max        28.990000  9.500000e+06     672.520000      30.000000   \n",
       "\n",
       "       inq_last_6mths  mths_since_last_delinq      ...        \\\n",
       "count   425892.000000           207813.000000      ...         \n",
       "mean         0.693460               34.066401      ...         \n",
       "std          0.996467               21.878348      ...         \n",
       "min          0.000000                0.000000      ...         \n",
       "25%          0.000000               15.000000      ...         \n",
       "50%          0.000000               31.000000      ...         \n",
       "75%          1.000000               50.000000      ...         \n",
       "max         31.000000              180.000000      ...         \n",
       "\n",
       "       total_rec_late_fee     recoveries  collection_recovery_fee  \\\n",
       "count       425903.000000  425903.000000            425903.000000   \n",
       "mean             0.399942      45.927254                 4.901791   \n",
       "std              4.067117     413.778293                64.051409   \n",
       "min              0.000000       0.000000                 0.000000   \n",
       "25%              0.000000       0.000000                 0.000000   \n",
       "50%              0.000000       0.000000                 0.000000   \n",
       "75%              0.000000       0.000000                 0.000000   \n",
       "max            294.680000   33520.270000              6972.590000   \n",
       "\n",
       "       collections_12_mths_ex_med  mths_since_last_major_derog  \\\n",
       "count               425830.000000                106543.000000   \n",
       "mean                     0.014222                    44.196362   \n",
       "std                      0.131521                    22.219313   \n",
       "min                      0.000000                     0.000000   \n",
       "25%                      0.000000                    27.000000   \n",
       "50%                      0.000000                    44.000000   \n",
       "75%                      0.000000                    62.000000   \n",
       "max                     14.000000                   180.000000   \n",
       "\n",
       "       acc_now_delinq   tot_coll_amt   tot_cur_bal  total_rev_hi_lim  \\\n",
       "count   425892.000000  392352.000000  3.923520e+05      3.923520e+05   \n",
       "mean         0.004975     215.213334  1.395269e+05      3.203371e+04   \n",
       "std          0.079570    1978.439164  1.539149e+05      3.920350e+04   \n",
       "min          0.000000       0.000000  0.000000e+00      0.000000e+00   \n",
       "25%          0.000000       0.000000  2.982275e+04      1.390000e+04   \n",
       "50%          0.000000       0.000000  8.081850e+04      2.370000e+04   \n",
       "75%          0.000000       0.000000  2.083942e+05      3.980000e+04   \n",
       "max         14.000000  496651.000000  8.000078e+06      9.999999e+06   \n",
       "\n",
       "         loan_status  \n",
       "count  425903.000000  \n",
       "mean        0.235500  \n",
       "std         0.424311  \n",
       "min         0.000000  \n",
       "25%         0.000000  \n",
       "50%         0.000000  \n",
       "75%         0.000000  \n",
       "max         1.000000  \n",
       "\n",
       "[8 rows x 27 columns]"
      ]
     },
     "execution_count": 8,
     "metadata": {},
     "output_type": "execute_result"
    }
   ],
   "source": [
    "data.describe()"
   ]
  },
  {
   "cell_type": "code",
   "execution_count": 9,
   "metadata": {},
   "outputs": [
    {
     "data": {
      "text/plain": [
       "<matplotlib.axes._subplots.AxesSubplot at 0x2b231691710>"
      ]
     },
     "execution_count": 9,
     "metadata": {},
     "output_type": "execute_result"
    },
    {
     "data": {
      "image/png": "[encoded data removed]",
      "text/plain": [
       "<matplotlib.figure.Figure at 0x2b22acdf470>"
      ]
     },
     "metadata": {},
     "output_type": "display_data"
    }
   ],
   "source": [
    "ms.matrix(data)"
   ]
  },
  {
   "cell_type": "code",
   "execution_count": 10,
   "metadata": {},
   "outputs": [
    {
     "data": {
      "text/html": [
       "<div>\n",
       "<style>\n",
       "    .dataframe thead tr:only-child th {\n",
       "        text-align: right;\n",
       "    }\n",
       "\n",
       "    .dataframe thead th {\n",
       "        text-align: left;\n",
       "    }\n",
       "\n",
       "    .dataframe tbody tr th {\n",
       "        vertical-align: top;\n",
       "    }\n",
       "</style>\n",
       "<table border=\"1\" class=\"dataframe\">\n",
       "  <thead>\n",
       "    <tr style=\"text-align: right;\">\n",
       "      <th></th>\n",
       "      <th>member_id</th>\n",
       "      <th>loan_amnt</th>\n",
       "      <th>funded_amnt</th>\n",
       "      <th>funded_amnt_inv</th>\n",
       "      <th>int_rate</th>\n",
       "      <th>annual_inc</th>\n",
       "      <th>dti</th>\n",
       "      <th>delinq_2yrs</th>\n",
       "      <th>inq_last_6mths</th>\n",
       "      <th>mths_since_last_delinq</th>\n",
       "      <th>...</th>\n",
       "      <th>total_rec_late_fee</th>\n",
       "      <th>recoveries</th>\n",
       "      <th>collection_recovery_fee</th>\n",
       "      <th>collections_12_mths_ex_med</th>\n",
       "      <th>mths_since_last_major_derog</th>\n",
       "      <th>acc_now_delinq</th>\n",
       "      <th>tot_coll_amt</th>\n",
       "      <th>tot_cur_bal</th>\n",
       "      <th>total_rev_hi_lim</th>\n",
       "      <th>loan_status</th>\n",
       "    </tr>\n",
       "  </thead>\n",
       "  <tbody>\n",
       "    <tr>\n",
       "      <th>member_id</th>\n",
       "      <td>1.000000</td>\n",
       "      <td>0.065352</td>\n",
       "      <td>0.067651</td>\n",
       "      <td>0.073147</td>\n",
       "      <td>-0.139901</td>\n",
       "      <td>0.034178</td>\n",
       "      <td>0.133539</td>\n",
       "      <td>0.049887</td>\n",
       "      <td>-0.127662</td>\n",
       "      <td>-0.008617</td>\n",
       "      <td>...</td>\n",
       "      <td>-0.076312</td>\n",
       "      <td>-0.113223</td>\n",
       "      <td>-0.072005</td>\n",
       "      <td>0.051502</td>\n",
       "      <td>0.055830</td>\n",
       "      <td>0.017023</td>\n",
       "      <td>0.026016</td>\n",
       "      <td>0.007032</td>\n",
       "      <td>0.044385</td>\n",
       "      <td>-0.490264</td>\n",
       "    </tr>\n",
       "    <tr>\n",
       "      <th>loan_amnt</th>\n",
       "      <td>0.065352</td>\n",
       "      <td>1.000000</td>\n",
       "      <td>0.999265</td>\n",
       "      <td>0.997122</td>\n",
       "      <td>0.145261</td>\n",
       "      <td>0.320927</td>\n",
       "      <td>0.041779</td>\n",
       "      <td>-0.000732</td>\n",
       "      <td>-0.034130</td>\n",
       "      <td>-0.037737</td>\n",
       "      <td>...</td>\n",
       "      <td>0.031681</td>\n",
       "      <td>0.072880</td>\n",
       "      <td>0.052062</td>\n",
       "      <td>-0.014963</td>\n",
       "      <td>-0.038312</td>\n",
       "      <td>0.003573</td>\n",
       "      <td>-0.020379</td>\n",
       "      <td>0.326861</td>\n",
       "      <td>0.298917</td>\n",
       "      <td>-0.095438</td>\n",
       "    </tr>\n",
       "    <tr>\n",
       "      <th>funded_amnt</th>\n",
       "      <td>0.067651</td>\n",
       "      <td>0.999265</td>\n",
       "      <td>1.000000</td>\n",
       "      <td>0.998051</td>\n",
       "      <td>0.145463</td>\n",
       "      <td>0.320775</td>\n",
       "      <td>0.042665</td>\n",
       "      <td>-0.000439</td>\n",
       "      <td>-0.034733</td>\n",
       "      <td>-0.037736</td>\n",
       "      <td>...</td>\n",
       "      <td>0.031291</td>\n",
       "      <td>0.072426</td>\n",
       "      <td>0.051895</td>\n",
       "      <td>-0.014802</td>\n",
       "      <td>-0.038297</td>\n",
       "      <td>0.003675</td>\n",
       "      <td>-0.020378</td>\n",
       "      <td>0.326859</td>\n",
       "      <td>0.298916</td>\n",
       "      <td>-0.097337</td>\n",
       "    </tr>\n",
       "    <tr>\n",
       "      <th>funded_amnt_inv</th>\n",
       "      <td>0.073147</td>\n",
       "      <td>0.997122</td>\n",
       "      <td>0.998051</td>\n",
       "      <td>1.000000</td>\n",
       "      <td>0.145503</td>\n",
       "      <td>0.319862</td>\n",
       "      <td>0.044904</td>\n",
       "      <td>-0.000005</td>\n",
       "      <td>-0.038748</td>\n",
       "      <td>-0.035474</td>\n",
       "      <td>...</td>\n",
       "      <td>0.027984</td>\n",
       "      <td>0.070749</td>\n",
       "      <td>0.049286</td>\n",
       "      <td>-0.014382</td>\n",
       "      <td>-0.038263</td>\n",
       "      <td>0.003835</td>\n",
       "      <td>-0.020382</td>\n",
       "      <td>0.326888</td>\n",
       "      <td>0.298951</td>\n",
       "      <td>-0.101644</td>\n",
       "    </tr>\n",
       "    <tr>\n",
       "      <th>int_rate</th>\n",
       "      <td>-0.139901</td>\n",
       "      <td>0.145261</td>\n",
       "      <td>0.145463</td>\n",
       "      <td>0.145503</td>\n",
       "      <td>1.000000</td>\n",
       "      <td>-0.070760</td>\n",
       "      <td>0.163592</td>\n",
       "      <td>0.056602</td>\n",
       "      <td>0.228154</td>\n",
       "      <td>-0.033077</td>\n",
       "      <td>...</td>\n",
       "      <td>0.056848</td>\n",
       "      <td>0.106925</td>\n",
       "      <td>0.070469</td>\n",
       "      <td>0.015237</td>\n",
       "      <td>-0.015472</td>\n",
       "      <td>0.027584</td>\n",
       "      <td>0.002715</td>\n",
       "      <td>-0.091911</td>\n",
       "      <td>-0.160017</td>\n",
       "      <td>0.001947</td>\n",
       "    </tr>\n",
       "    <tr>\n",
       "      <th>annual_inc</th>\n",
       "      <td>0.034178</td>\n",
       "      <td>0.320927</td>\n",
       "      <td>0.320775</td>\n",
       "      <td>0.319862</td>\n",
       "      <td>-0.070760</td>\n",
       "      <td>1.000000</td>\n",
       "      <td>-0.172125</td>\n",
       "      <td>0.047538</td>\n",
       "      <td>0.031784</td>\n",
       "      <td>-0.050079</td>\n",
       "      <td>...</td>\n",
       "      <td>0.012984</td>\n",
       "      <td>0.007422</td>\n",
       "      <td>0.006218</td>\n",
       "      <td>-0.005039</td>\n",
       "      <td>-0.039216</td>\n",
       "      <td>0.014770</td>\n",
       "      <td>0.000159</td>\n",
       "      <td>0.406604</td>\n",
       "      <td>0.253185</td>\n",
       "      <td>-0.009043</td>\n",
       "    </tr>\n",
       "    <tr>\n",
       "      <th>dti</th>\n",
       "      <td>0.133539</td>\n",
       "      <td>0.041779</td>\n",
       "      <td>0.042665</td>\n",
       "      <td>0.044904</td>\n",
       "      <td>0.163592</td>\n",
       "      <td>-0.172125</td>\n",
       "      <td>1.000000</td>\n",
       "      <td>-0.007419</td>\n",
       "      <td>-0.015911</td>\n",
       "      <td>0.006061</td>\n",
       "      <td>...</td>\n",
       "      <td>-0.012407</td>\n",
       "      <td>0.001768</td>\n",
       "      <td>0.003516</td>\n",
       "      <td>0.001263</td>\n",
       "      <td>0.029438</td>\n",
       "      <td>0.007252</td>\n",
       "      <td>-0.015866</td>\n",
       "      <td>-0.014489</td>\n",
       "      <td>0.065912</td>\n",
       "      <td>-0.132718</td>\n",
       "    </tr>\n",
       "    <tr>\n",
       "      <th>delinq_2yrs</th>\n",
       "      <td>0.049887</td>\n",
       "      <td>-0.000732</td>\n",
       "      <td>-0.000439</td>\n",
       "      <td>-0.000005</td>\n",
       "      <td>0.056602</td>\n",
       "      <td>0.047538</td>\n",
       "      <td>-0.007419</td>\n",
       "      <td>1.000000</td>\n",
       "      <td>0.021890</td>\n",
       "      <td>-0.567751</td>\n",
       "      <td>...</td>\n",
       "      <td>0.018671</td>\n",
       "      <td>0.000027</td>\n",
       "      <td>0.000290</td>\n",
       "      <td>0.064554</td>\n",
       "      <td>-0.424708</td>\n",
       "      <td>0.136631</td>\n",
       "      <td>0.000927</td>\n",
       "      <td>0.067031</td>\n",
       "      <td>-0.038811</td>\n",
       "      <td>-0.045732</td>\n",
       "    </tr>\n",
       "    <tr>\n",
       "      <th>inq_last_6mths</th>\n",
       "      <td>-0.127662</td>\n",
       "      <td>-0.034130</td>\n",
       "      <td>-0.034733</td>\n",
       "      <td>-0.038748</td>\n",
       "      <td>0.228154</td>\n",
       "      <td>0.031784</td>\n",
       "      <td>-0.015911</td>\n",
       "      <td>0.021890</td>\n",
       "      <td>1.000000</td>\n",
       "      <td>0.012485</td>\n",
       "      <td>...</td>\n",
       "      <td>0.033947</td>\n",
       "      <td>0.044538</td>\n",
       "      <td>0.031945</td>\n",
       "      <td>0.007769</td>\n",
       "      <td>0.018514</td>\n",
       "      <td>-0.003330</td>\n",
       "      <td>0.013730</td>\n",
       "      <td>0.032287</td>\n",
       "      <td>0.006033</td>\n",
       "      <td>0.087725</td>\n",
       "    </tr>\n",
       "    <tr>\n",
       "      <th>mths_since_last_delinq</th>\n",
       "      <td>-0.008617</td>\n",
       "      <td>-0.037737</td>\n",
       "      <td>-0.037736</td>\n",
       "      <td>-0.035474</td>\n",
       "      <td>-0.033077</td>\n",
       "      <td>-0.050079</td>\n",
       "      <td>0.006061</td>\n",
       "      <td>-0.567751</td>\n",
       "      <td>0.012485</td>\n",
       "      <td>1.000000</td>\n",
       "      <td>...</td>\n",
       "      <td>-0.020221</td>\n",
       "      <td>-0.002506</td>\n",
       "      <td>-0.003299</td>\n",
       "      <td>-0.035432</td>\n",
       "      <td>0.697123</td>\n",
       "      <td>-0.135171</td>\n",
       "      <td>0.034405</td>\n",
       "      <td>-0.095224</td>\n",
       "      <td>-0.023369</td>\n",
       "      <td>0.028167</td>\n",
       "    </tr>\n",
       "    <tr>\n",
       "      <th>mths_since_last_record</th>\n",
       "      <td>-0.164129</td>\n",
       "      <td>-0.013583</td>\n",
       "      <td>-0.013428</td>\n",
       "      <td>0.005917</td>\n",
       "      <td>0.026518</td>\n",
       "      <td>-0.102799</td>\n",
       "      <td>0.066756</td>\n",
       "      <td>-0.095456</td>\n",
       "      <td>-0.086058</td>\n",
       "      <td>0.022026</td>\n",
       "      <td>...</td>\n",
       "      <td>-0.028303</td>\n",
       "      <td>0.011132</td>\n",
       "      <td>-0.000475</td>\n",
       "      <td>-0.019912</td>\n",
       "      <td>0.036965</td>\n",
       "      <td>-0.012946</td>\n",
       "      <td>-0.061248</td>\n",
       "      <td>-0.027420</td>\n",
       "      <td>-0.033981</td>\n",
       "      <td>0.074329</td>\n",
       "    </tr>\n",
       "    <tr>\n",
       "      <th>open_acc</th>\n",
       "      <td>0.087640</td>\n",
       "      <td>0.198235</td>\n",
       "      <td>0.198687</td>\n",
       "      <td>0.199297</td>\n",
       "      <td>-0.009017</td>\n",
       "      <td>0.132087</td>\n",
       "      <td>0.296360</td>\n",
       "      <td>0.051696</td>\n",
       "      <td>0.112343</td>\n",
       "      <td>-0.046116</td>\n",
       "      <td>...</td>\n",
       "      <td>-0.010230</td>\n",
       "      <td>0.000550</td>\n",
       "      <td>0.002777</td>\n",
       "      <td>0.010681</td>\n",
       "      <td>0.009573</td>\n",
       "      <td>0.018113</td>\n",
       "      <td>0.003095</td>\n",
       "      <td>0.242924</td>\n",
       "      <td>0.310960</td>\n",
       "      <td>-0.064340</td>\n",
       "    </tr>\n",
       "    <tr>\n",
       "      <th>pub_rec</th>\n",
       "      <td>0.080022</td>\n",
       "      <td>-0.079964</td>\n",
       "      <td>-0.079616</td>\n",
       "      <td>-0.078567</td>\n",
       "      <td>0.051435</td>\n",
       "      <td>-0.007321</td>\n",
       "      <td>-0.046888</td>\n",
       "      <td>-0.010781</td>\n",
       "      <td>0.056345</td>\n",
       "      <td>0.094396</td>\n",
       "      <td>...</td>\n",
       "      <td>-0.011310</td>\n",
       "      <td>-0.013790</td>\n",
       "      <td>-0.008322</td>\n",
       "      <td>0.020412</td>\n",
       "      <td>0.115939</td>\n",
       "      <td>0.000164</td>\n",
       "      <td>0.034685</td>\n",
       "      <td>-0.074235</td>\n",
       "      <td>-0.095465</td>\n",
       "      <td>-0.049616</td>\n",
       "    </tr>\n",
       "    <tr>\n",
       "      <th>revol_bal</th>\n",
       "      <td>0.035812</td>\n",
       "      <td>0.334947</td>\n",
       "      <td>0.334834</td>\n",
       "      <td>0.333120</td>\n",
       "      <td>-0.036718</td>\n",
       "      <td>0.290134</td>\n",
       "      <td>0.137320</td>\n",
       "      <td>-0.032043</td>\n",
       "      <td>-0.017305</td>\n",
       "      <td>-0.025056</td>\n",
       "      <td>...</td>\n",
       "      <td>0.002852</td>\n",
       "      <td>0.010799</td>\n",
       "      <td>0.008752</td>\n",
       "      <td>-0.023110</td>\n",
       "      <td>-0.019884</td>\n",
       "      <td>-0.000300</td>\n",
       "      <td>-0.029357</td>\n",
       "      <td>0.439538</td>\n",
       "      <td>0.811630</td>\n",
       "      <td>-0.040913</td>\n",
       "    </tr>\n",
       "    <tr>\n",
       "      <th>revol_util</th>\n",
       "      <td>-0.053052</td>\n",
       "      <td>0.119597</td>\n",
       "      <td>0.120203</td>\n",
       "      <td>0.120897</td>\n",
       "      <td>0.268858</td>\n",
       "      <td>0.036022</td>\n",
       "      <td>0.178171</td>\n",
       "      <td>-0.018968</td>\n",
       "      <td>-0.086609</td>\n",
       "      <td>0.014029</td>\n",
       "      <td>...</td>\n",
       "      <td>0.022945</td>\n",
       "      <td>0.028381</td>\n",
       "      <td>0.019158</td>\n",
       "      <td>-0.035650</td>\n",
       "      <td>-0.011838</td>\n",
       "      <td>-0.028292</td>\n",
       "      <td>-0.043905</td>\n",
       "      <td>0.082260</td>\n",
       "      <td>-0.111607</td>\n",
       "      <td>-0.047187</td>\n",
       "    </tr>\n",
       "    <tr>\n",
       "      <th>total_acc</th>\n",
       "      <td>0.029988</td>\n",
       "      <td>0.220760</td>\n",
       "      <td>0.220628</td>\n",
       "      <td>0.220775</td>\n",
       "      <td>-0.037708</td>\n",
       "      <td>0.179926</td>\n",
       "      <td>0.221525</td>\n",
       "      <td>0.123551</td>\n",
       "      <td>0.136243</td>\n",
       "      <td>-0.047507</td>\n",
       "      <td>...</td>\n",
       "      <td>-0.004052</td>\n",
       "      <td>0.008963</td>\n",
       "      <td>0.010521</td>\n",
       "      <td>0.009019</td>\n",
       "      <td>-0.047357</td>\n",
       "      <td>0.026268</td>\n",
       "      <td>0.027349</td>\n",
       "      <td>0.310531</td>\n",
       "      <td>0.243936</td>\n",
       "      <td>-0.001895</td>\n",
       "    </tr>\n",
       "    <tr>\n",
       "      <th>total_rec_int</th>\n",
       "      <td>-0.460630</td>\n",
       "      <td>0.532308</td>\n",
       "      <td>0.531422</td>\n",
       "      <td>0.528939</td>\n",
       "      <td>0.445256</td>\n",
       "      <td>0.122757</td>\n",
       "      <td>0.018453</td>\n",
       "      <td>0.002894</td>\n",
       "      <td>0.087135</td>\n",
       "      <td>-0.031250</td>\n",
       "      <td>...</td>\n",
       "      <td>0.090074</td>\n",
       "      <td>0.066313</td>\n",
       "      <td>0.049473</td>\n",
       "      <td>-0.023448</td>\n",
       "      <td>-0.059026</td>\n",
       "      <td>0.001560</td>\n",
       "      <td>-0.019651</td>\n",
       "      <td>0.130588</td>\n",
       "      <td>0.069566</td>\n",
       "      <td>0.038676</td>\n",
       "    </tr>\n",
       "    <tr>\n",
       "      <th>total_rec_late_fee</th>\n",
       "      <td>-0.076312</td>\n",
       "      <td>0.031681</td>\n",
       "      <td>0.031291</td>\n",
       "      <td>0.027984</td>\n",
       "      <td>0.056848</td>\n",
       "      <td>0.012984</td>\n",
       "      <td>-0.012407</td>\n",
       "      <td>0.018671</td>\n",
       "      <td>0.033947</td>\n",
       "      <td>-0.020221</td>\n",
       "      <td>...</td>\n",
       "      <td>1.000000</td>\n",
       "      <td>0.069122</td>\n",
       "      <td>0.063249</td>\n",
       "      <td>-0.002965</td>\n",
       "      <td>-0.005775</td>\n",
       "      <td>0.003089</td>\n",
       "      <td>-0.003532</td>\n",
       "      <td>0.012035</td>\n",
       "      <td>-0.005927</td>\n",
       "      <td>-0.003989</td>\n",
       "    </tr>\n",
       "    <tr>\n",
       "      <th>recoveries</th>\n",
       "      <td>-0.113223</td>\n",
       "      <td>0.072880</td>\n",
       "      <td>0.072426</td>\n",
       "      <td>0.070749</td>\n",
       "      <td>0.106925</td>\n",
       "      <td>0.007422</td>\n",
       "      <td>0.001768</td>\n",
       "      <td>0.000027</td>\n",
       "      <td>0.044538</td>\n",
       "      <td>-0.002506</td>\n",
       "      <td>...</td>\n",
       "      <td>0.069122</td>\n",
       "      <td>1.000000</td>\n",
       "      <td>0.804050</td>\n",
       "      <td>-0.005233</td>\n",
       "      <td>-0.012942</td>\n",
       "      <td>0.001165</td>\n",
       "      <td>-0.004649</td>\n",
       "      <td>0.005425</td>\n",
       "      <td>0.000271</td>\n",
       "      <td>-0.061604</td>\n",
       "    </tr>\n",
       "    <tr>\n",
       "      <th>collection_recovery_fee</th>\n",
       "      <td>-0.072005</td>\n",
       "      <td>0.052062</td>\n",
       "      <td>0.051895</td>\n",
       "      <td>0.049286</td>\n",
       "      <td>0.070469</td>\n",
       "      <td>0.006218</td>\n",
       "      <td>0.003516</td>\n",
       "      <td>0.000290</td>\n",
       "      <td>0.031945</td>\n",
       "      <td>-0.003299</td>\n",
       "      <td>...</td>\n",
       "      <td>0.063249</td>\n",
       "      <td>0.804050</td>\n",
       "      <td>1.000000</td>\n",
       "      <td>-0.003255</td>\n",
       "      <td>-0.007891</td>\n",
       "      <td>0.000440</td>\n",
       "      <td>-0.003091</td>\n",
       "      <td>0.006370</td>\n",
       "      <td>0.001986</td>\n",
       "      <td>-0.042475</td>\n",
       "    </tr>\n",
       "    <tr>\n",
       "      <th>collections_12_mths_ex_med</th>\n",
       "      <td>0.051502</td>\n",
       "      <td>-0.014963</td>\n",
       "      <td>-0.014802</td>\n",
       "      <td>-0.014382</td>\n",
       "      <td>0.015237</td>\n",
       "      <td>-0.005039</td>\n",
       "      <td>0.001263</td>\n",
       "      <td>0.064554</td>\n",
       "      <td>0.007769</td>\n",
       "      <td>-0.035432</td>\n",
       "      <td>...</td>\n",
       "      <td>-0.002965</td>\n",
       "      <td>-0.005233</td>\n",
       "      <td>-0.003255</td>\n",
       "      <td>1.000000</td>\n",
       "      <td>-0.104112</td>\n",
       "      <td>0.061465</td>\n",
       "      <td>0.050979</td>\n",
       "      <td>-0.010753</td>\n",
       "      <td>-0.016287</td>\n",
       "      <td>-0.034328</td>\n",
       "    </tr>\n",
       "    <tr>\n",
       "      <th>mths_since_last_major_derog</th>\n",
       "      <td>0.055830</td>\n",
       "      <td>-0.038312</td>\n",
       "      <td>-0.038297</td>\n",
       "      <td>-0.038263</td>\n",
       "      <td>-0.015472</td>\n",
       "      <td>-0.039216</td>\n",
       "      <td>0.029438</td>\n",
       "      <td>-0.424708</td>\n",
       "      <td>0.018514</td>\n",
       "      <td>0.697123</td>\n",
       "      <td>...</td>\n",
       "      <td>-0.005775</td>\n",
       "      <td>-0.012942</td>\n",
       "      <td>-0.007891</td>\n",
       "      <td>-0.104112</td>\n",
       "      <td>1.000000</td>\n",
       "      <td>-0.110129</td>\n",
       "      <td>0.032871</td>\n",
       "      <td>-0.071692</td>\n",
       "      <td>-0.019445</td>\n",
       "      <td>-0.010868</td>\n",
       "    </tr>\n",
       "    <tr>\n",
       "      <th>acc_now_delinq</th>\n",
       "      <td>0.017023</td>\n",
       "      <td>0.003573</td>\n",
       "      <td>0.003675</td>\n",
       "      <td>0.003835</td>\n",
       "      <td>0.027584</td>\n",
       "      <td>0.014770</td>\n",
       "      <td>0.007252</td>\n",
       "      <td>0.136631</td>\n",
       "      <td>-0.003330</td>\n",
       "      <td>-0.135171</td>\n",
       "      <td>...</td>\n",
       "      <td>0.003089</td>\n",
       "      <td>0.001165</td>\n",
       "      <td>0.000440</td>\n",
       "      <td>0.061465</td>\n",
       "      <td>-0.110129</td>\n",
       "      <td>1.000000</td>\n",
       "      <td>0.000920</td>\n",
       "      <td>0.023738</td>\n",
       "      <td>0.007869</td>\n",
       "      <td>-0.013909</td>\n",
       "    </tr>\n",
       "    <tr>\n",
       "      <th>tot_coll_amt</th>\n",
       "      <td>0.026016</td>\n",
       "      <td>-0.020379</td>\n",
       "      <td>-0.020378</td>\n",
       "      <td>-0.020382</td>\n",
       "      <td>0.002715</td>\n",
       "      <td>0.000159</td>\n",
       "      <td>-0.015866</td>\n",
       "      <td>0.000927</td>\n",
       "      <td>0.013730</td>\n",
       "      <td>0.034405</td>\n",
       "      <td>...</td>\n",
       "      <td>-0.003532</td>\n",
       "      <td>-0.004649</td>\n",
       "      <td>-0.003091</td>\n",
       "      <td>0.050979</td>\n",
       "      <td>0.032871</td>\n",
       "      <td>0.000920</td>\n",
       "      <td>1.000000</td>\n",
       "      <td>-0.007797</td>\n",
       "      <td>-0.022442</td>\n",
       "      <td>-0.013121</td>\n",
       "    </tr>\n",
       "    <tr>\n",
       "      <th>tot_cur_bal</th>\n",
       "      <td>0.007032</td>\n",
       "      <td>0.326861</td>\n",
       "      <td>0.326859</td>\n",
       "      <td>0.326888</td>\n",
       "      <td>-0.091911</td>\n",
       "      <td>0.406604</td>\n",
       "      <td>-0.014489</td>\n",
       "      <td>0.067031</td>\n",
       "      <td>0.032287</td>\n",
       "      <td>-0.095224</td>\n",
       "      <td>...</td>\n",
       "      <td>0.012035</td>\n",
       "      <td>0.005425</td>\n",
       "      <td>0.006370</td>\n",
       "      <td>-0.010753</td>\n",
       "      <td>-0.071692</td>\n",
       "      <td>0.023738</td>\n",
       "      <td>-0.007797</td>\n",
       "      <td>1.000000</td>\n",
       "      <td>0.371000</td>\n",
       "      <td>0.014158</td>\n",
       "    </tr>\n",
       "    <tr>\n",
       "      <th>total_rev_hi_lim</th>\n",
       "      <td>0.044385</td>\n",
       "      <td>0.298917</td>\n",
       "      <td>0.298916</td>\n",
       "      <td>0.298951</td>\n",
       "      <td>-0.160017</td>\n",
       "      <td>0.253185</td>\n",
       "      <td>0.065912</td>\n",
       "      <td>-0.038811</td>\n",
       "      <td>0.006033</td>\n",
       "      <td>-0.023369</td>\n",
       "      <td>...</td>\n",
       "      <td>-0.005927</td>\n",
       "      <td>0.000271</td>\n",
       "      <td>0.001986</td>\n",
       "      <td>-0.016287</td>\n",
       "      <td>-0.019445</td>\n",
       "      <td>0.007869</td>\n",
       "      <td>-0.022442</td>\n",
       "      <td>0.371000</td>\n",
       "      <td>1.000000</td>\n",
       "      <td>-0.019330</td>\n",
       "    </tr>\n",
       "    <tr>\n",
       "      <th>loan_status</th>\n",
       "      <td>-0.490264</td>\n",
       "      <td>-0.095438</td>\n",
       "      <td>-0.097337</td>\n",
       "      <td>-0.101644</td>\n",
       "      <td>0.001947</td>\n",
       "      <td>-0.009043</td>\n",
       "      <td>-0.132718</td>\n",
       "      <td>-0.045732</td>\n",
       "      <td>0.087725</td>\n",
       "      <td>0.028167</td>\n",
       "      <td>...</td>\n",
       "      <td>-0.003989</td>\n",
       "      <td>-0.061604</td>\n",
       "      <td>-0.042475</td>\n",
       "      <td>-0.034328</td>\n",
       "      <td>-0.010868</td>\n",
       "      <td>-0.013909</td>\n",
       "      <td>-0.013121</td>\n",
       "      <td>0.014158</td>\n",
       "      <td>-0.019330</td>\n",
       "      <td>1.000000</td>\n",
       "    </tr>\n",
       "  </tbody>\n",
       "</table>\n",
       "<p>27 rows × 27 columns</p>\n",
       "</div>"
      ],
      "text/plain": [
       "                             member_id  loan_amnt  funded_amnt  \\\n",
       "member_id                     1.000000   0.065352     0.067651   \n",
       "loan_amnt                     0.065352   1.000000     0.999265   \n",
       "funded_amnt                   0.067651   0.999265     1.000000   \n",
       "funded_amnt_inv               0.073147   0.997122     0.998051   \n",
       "int_rate                     -0.139901   0.145261     0.145463   \n",
       "annual_inc                    0.034178   0.320927     0.320775   \n",
       "dti                           0.133539   0.041779     0.042665   \n",
       "delinq_2yrs                   0.049887  -0.000732    -0.000439   \n",
       "inq_last_6mths               -0.127662  -0.034130    -0.034733   \n",
       "mths_since_last_delinq       -0.008617  -0.037737    -0.037736   \n",
       "mths_since_last_record       -0.164129  -0.013583    -0.013428   \n",
       "open_acc                      0.087640   0.198235     0.198687   \n",
       "pub_rec                       0.080022  -0.079964    -0.079616   \n",
       "revol_bal                     0.035812   0.334947     0.334834   \n",
       "revol_util                   -0.053052   0.119597     0.120203   \n",
       "total_acc                     0.029988   0.220760     0.220628   \n",
       "total_rec_int                -0.460630   0.532308     0.531422   \n",
       "total_rec_late_fee           -0.076312   0.031681     0.031291   \n",
       "recoveries                   -0.113223   0.072880     0.072426   \n",
       "collection_recovery_fee      -0.072005   0.052062     0.051895   \n",
       "collections_12_mths_ex_med    0.051502  -0.014963    -0.014802   \n",
       "mths_since_last_major_derog   0.055830  -0.038312    -0.038297   \n",
       "acc_now_delinq                0.017023   0.003573     0.003675   \n",
       "tot_coll_amt                  0.026016  -0.020379    -0.020378   \n",
       "tot_cur_bal                   0.007032   0.326861     0.326859   \n",
       "total_rev_hi_lim              0.044385   0.298917     0.298916   \n",
       "loan_status                  -0.490264  -0.095438    -0.097337   \n",
       "\n",
       "                             funded_amnt_inv  int_rate  annual_inc       dti  \\\n",
       "member_id                           0.073147 -0.139901    0.034178  0.133539   \n",
       "loan_amnt                           0.997122  0.145261    0.320927  0.041779   \n",
       "funded_amnt                         0.998051  0.145463    0.320775  0.042665   \n",
       "funded_amnt_inv                     1.000000  0.145503    0.319862  0.044904   \n",
       "int_rate                            0.145503  1.000000   -0.070760  0.163592   \n",
       "annual_inc                          0.319862 -0.070760    1.000000 -0.172125   \n",
       "dti                                 0.044904  0.163592   -0.172125  1.000000   \n",
       "delinq_2yrs                        -0.000005  0.056602    0.047538 -0.007419   \n",
       "inq_last_6mths                     -0.038748  0.228154    0.031784 -0.015911   \n",
       "mths_since_last_delinq             -0.035474 -0.033077   -0.050079  0.006061   \n",
       "mths_since_last_record              0.005917  0.026518   -0.102799  0.066756   \n",
       "open_acc                            0.199297 -0.009017    0.132087  0.296360   \n",
       "pub_rec                            -0.078567  0.051435   -0.007321 -0.046888   \n",
       "revol_bal                           0.333120 -0.036718    0.290134  0.137320   \n",
       "revol_util                          0.120897  0.268858    0.036022  0.178171   \n",
       "total_acc                           0.220775 -0.037708    0.179926  0.221525   \n",
       "total_rec_int                       0.528939  0.445256    0.122757  0.018453   \n",
       "total_rec_late_fee                  0.027984  0.056848    0.012984 -0.012407   \n",
       "recoveries                          0.070749  0.106925    0.007422  0.001768   \n",
       "collection_recovery_fee             0.049286  0.070469    0.006218  0.003516   \n",
       "collections_12_mths_ex_med         -0.014382  0.015237   -0.005039  0.001263   \n",
       "mths_since_last_major_derog        -0.038263 -0.015472   -0.039216  0.029438   \n",
       "acc_now_delinq                      0.003835  0.027584    0.014770  0.007252   \n",
       "tot_coll_amt                       -0.020382  0.002715    0.000159 -0.015866   \n",
       "tot_cur_bal                         0.326888 -0.091911    0.406604 -0.014489   \n",
       "total_rev_hi_lim                    0.298951 -0.160017    0.253185  0.065912   \n",
       "loan_status                        -0.101644  0.001947   -0.009043 -0.132718   \n",
       "\n",
       "                             delinq_2yrs  inq_last_6mths  \\\n",
       "member_id                       0.049887       -0.127662   \n",
       "loan_amnt                      -0.000732       -0.034130   \n",
       "funded_amnt                    -0.000439       -0.034733   \n",
       "funded_amnt_inv                -0.000005       -0.038748   \n",
       "int_rate                        0.056602        0.228154   \n",
       "annual_inc                      0.047538        0.031784   \n",
       "dti                            -0.007419       -0.015911   \n",
       "delinq_2yrs                     1.000000        0.021890   \n",
       "inq_last_6mths                  0.021890        1.000000   \n",
       "mths_since_last_delinq         -0.567751        0.012485   \n",
       "mths_since_last_record         -0.095456       -0.086058   \n",
       "open_acc                        0.051696        0.112343   \n",
       "pub_rec                        -0.010781        0.056345   \n",
       "revol_bal                      -0.032043       -0.017305   \n",
       "revol_util                     -0.018968       -0.086609   \n",
       "total_acc                       0.123551        0.136243   \n",
       "total_rec_int                   0.002894        0.087135   \n",
       "total_rec_late_fee              0.018671        0.033947   \n",
       "recoveries                      0.000027        0.044538   \n",
       "collection_recovery_fee         0.000290        0.031945   \n",
       "collections_12_mths_ex_med      0.064554        0.007769   \n",
       "mths_since_last_major_derog    -0.424708        0.018514   \n",
       "acc_now_delinq                  0.136631       -0.003330   \n",
       "tot_coll_amt                    0.000927        0.013730   \n",
       "tot_cur_bal                     0.067031        0.032287   \n",
       "total_rev_hi_lim               -0.038811        0.006033   \n",
       "loan_status                    -0.045732        0.087725   \n",
       "\n",
       "                             mths_since_last_delinq     ...       \\\n",
       "member_id                                 -0.008617     ...        \n",
       "loan_amnt                                 -0.037737     ...        \n",
       "funded_amnt                               -0.037736     ...        \n",
       "funded_amnt_inv                           -0.035474     ...        \n",
       "int_rate                                  -0.033077     ...        \n",
       "annual_inc                                -0.050079     ...        \n",
       "dti                                        0.006061     ...        \n",
       "delinq_2yrs                               -0.567751     ...        \n",
       "inq_last_6mths                             0.012485     ...        \n",
       "mths_since_last_delinq                     1.000000     ...        \n",
       "mths_since_last_record                     0.022026     ...        \n",
       "open_acc                                  -0.046116     ...        \n",
       "pub_rec                                    0.094396     ...        \n",
       "revol_bal                                 -0.025056     ...        \n",
       "revol_util                                 0.014029     ...        \n",
       "total_acc                                 -0.047507     ...        \n",
       "total_rec_int                             -0.031250     ...        \n",
       "total_rec_late_fee                        -0.020221     ...        \n",
       "recoveries                                -0.002506     ...        \n",
       "collection_recovery_fee                   -0.003299     ...        \n",
       "collections_12_mths_ex_med                -0.035432     ...        \n",
       "mths_since_last_major_derog                0.697123     ...        \n",
       "acc_now_delinq                            -0.135171     ...        \n",
       "tot_coll_amt                               0.034405     ...        \n",
       "tot_cur_bal                               -0.095224     ...        \n",
       "total_rev_hi_lim                          -0.023369     ...        \n",
       "loan_status                                0.028167     ...        \n",
       "\n",
       "                             total_rec_late_fee  recoveries  \\\n",
       "member_id                             -0.076312   -0.113223   \n",
       "loan_amnt                              0.031681    0.072880   \n",
       "funded_amnt                            0.031291    0.072426   \n",
       "funded_amnt_inv                        0.027984    0.070749   \n",
       "int_rate                               0.056848    0.106925   \n",
       "annual_inc                             0.012984    0.007422   \n",
       "dti                                   -0.012407    0.001768   \n",
       "delinq_2yrs                            0.018671    0.000027   \n",
       "inq_last_6mths                         0.033947    0.044538   \n",
       "mths_since_last_delinq                -0.020221   -0.002506   \n",
       "mths_since_last_record                -0.028303    0.011132   \n",
       "open_acc                              -0.010230    0.000550   \n",
       "pub_rec                               -0.011310   -0.013790   \n",
       "revol_bal                              0.002852    0.010799   \n",
       "revol_util                             0.022945    0.028381   \n",
       "total_acc                             -0.004052    0.008963   \n",
       "total_rec_int                          0.090074    0.066313   \n",
       "total_rec_late_fee                     1.000000    0.069122   \n",
       "recoveries                             0.069122    1.000000   \n",
       "collection_recovery_fee                0.063249    0.804050   \n",
       "collections_12_mths_ex_med            -0.002965   -0.005233   \n",
       "mths_since_last_major_derog           -0.005775   -0.012942   \n",
       "acc_now_delinq                         0.003089    0.001165   \n",
       "tot_coll_amt                          -0.003532   -0.004649   \n",
       "tot_cur_bal                            0.012035    0.005425   \n",
       "total_rev_hi_lim                      -0.005927    0.000271   \n",
       "loan_status                           -0.003989   -0.061604   \n",
       "\n",
       "                             collection_recovery_fee  \\\n",
       "member_id                                  -0.072005   \n",
       "loan_amnt                                   0.052062   \n",
       "funded_amnt                                 0.051895   \n",
       "funded_amnt_inv                             0.049286   \n",
       "int_rate                                    0.070469   \n",
       "annual_inc                                  0.006218   \n",
       "dti                                         0.003516   \n",
       "delinq_2yrs                                 0.000290   \n",
       "inq_last_6mths                              0.031945   \n",
       "mths_since_last_delinq                     -0.003299   \n",
       "mths_since_last_record                     -0.000475   \n",
       "open_acc                                    0.002777   \n",
       "pub_rec                                    -0.008322   \n",
       "revol_bal                                   0.008752   \n",
       "revol_util                                  0.019158   \n",
       "total_acc                                   0.010521   \n",
       "total_rec_int                               0.049473   \n",
       "total_rec_late_fee                          0.063249   \n",
       "recoveries                                  0.804050   \n",
       "collection_recovery_fee                     1.000000   \n",
       "collections_12_mths_ex_med                 -0.003255   \n",
       "mths_since_last_major_derog                -0.007891   \n",
       "acc_now_delinq                              0.000440   \n",
       "tot_coll_amt                               -0.003091   \n",
       "tot_cur_bal                                 0.006370   \n",
       "total_rev_hi_lim                            0.001986   \n",
       "loan_status                                -0.042475   \n",
       "\n",
       "                             collections_12_mths_ex_med  \\\n",
       "member_id                                      0.051502   \n",
       "loan_amnt                                     -0.014963   \n",
       "funded_amnt                                   -0.014802   \n",
       "funded_amnt_inv                               -0.014382   \n",
       "int_rate                                       0.015237   \n",
       "annual_inc                                    -0.005039   \n",
       "dti                                            0.001263   \n",
       "delinq_2yrs                                    0.064554   \n",
       "inq_last_6mths                                 0.007769   \n",
       "mths_since_last_delinq                        -0.035432   \n",
       "mths_since_last_record                        -0.019912   \n",
       "open_acc                                       0.010681   \n",
       "pub_rec                                        0.020412   \n",
       "revol_bal                                     -0.023110   \n",
       "revol_util                                    -0.035650   \n",
       "total_acc                                      0.009019   \n",
       "total_rec_int                                 -0.023448   \n",
       "total_rec_late_fee                            -0.002965   \n",
       "recoveries                                    -0.005233   \n",
       "collection_recovery_fee                       -0.003255   \n",
       "collections_12_mths_ex_med                     1.000000   \n",
       "mths_since_last_major_derog                   -0.104112   \n",
       "acc_now_delinq                                 0.061465   \n",
       "tot_coll_amt                                   0.050979   \n",
       "tot_cur_bal                                   -0.010753   \n",
       "total_rev_hi_lim                              -0.016287   \n",
       "loan_status                                   -0.034328   \n",
       "\n",
       "                             mths_since_last_major_derog  acc_now_delinq  \\\n",
       "member_id                                       0.055830        0.017023   \n",
       "loan_amnt                                      -0.038312        0.003573   \n",
       "funded_amnt                                    -0.038297        0.003675   \n",
       "funded_amnt_inv                                -0.038263        0.003835   \n",
       "int_rate                                       -0.015472        0.027584   \n",
       "annual_inc                                     -0.039216        0.014770   \n",
       "dti                                             0.029438        0.007252   \n",
       "delinq_2yrs                                    -0.424708        0.136631   \n",
       "inq_last_6mths                                  0.018514       -0.003330   \n",
       "mths_since_last_delinq                          0.697123       -0.135171   \n",
       "mths_since_last_record                          0.036965       -0.012946   \n",
       "open_acc                                        0.009573        0.018113   \n",
       "pub_rec                                         0.115939        0.000164   \n",
       "revol_bal                                      -0.019884       -0.000300   \n",
       "revol_util                                     -0.011838       -0.028292   \n",
       "total_acc                                      -0.047357        0.026268   \n",
       "total_rec_int                                  -0.059026        0.001560   \n",
       "total_rec_late_fee                             -0.005775        0.003089   \n",
       "recoveries                                     -0.012942        0.001165   \n",
       "collection_recovery_fee                        -0.007891        0.000440   \n",
       "collections_12_mths_ex_med                     -0.104112        0.061465   \n",
       "mths_since_last_major_derog                     1.000000       -0.110129   \n",
       "acc_now_delinq                                 -0.110129        1.000000   \n",
       "tot_coll_amt                                    0.032871        0.000920   \n",
       "tot_cur_bal                                    -0.071692        0.023738   \n",
       "total_rev_hi_lim                               -0.019445        0.007869   \n",
       "loan_status                                    -0.010868       -0.013909   \n",
       "\n",
       "                             tot_coll_amt  tot_cur_bal  total_rev_hi_lim  \\\n",
       "member_id                        0.026016     0.007032          0.044385   \n",
       "loan_amnt                       -0.020379     0.326861          0.298917   \n",
       "funded_amnt                     -0.020378     0.326859          0.298916   \n",
       "funded_amnt_inv                 -0.020382     0.326888          0.298951   \n",
       "int_rate                         0.002715    -0.091911         -0.160017   \n",
       "annual_inc                       0.000159     0.406604          0.253185   \n",
       "dti                             -0.015866    -0.014489          0.065912   \n",
       "delinq_2yrs                      0.000927     0.067031         -0.038811   \n",
       "inq_last_6mths                   0.013730     0.032287          0.006033   \n",
       "mths_since_last_delinq           0.034405    -0.095224         -0.023369   \n",
       "mths_since_last_record          -0.061248    -0.027420         -0.033981   \n",
       "open_acc                         0.003095     0.242924          0.310960   \n",
       "pub_rec                          0.034685    -0.074235         -0.095465   \n",
       "revol_bal                       -0.029357     0.439538          0.811630   \n",
       "revol_util                      -0.043905     0.082260         -0.111607   \n",
       "total_acc                        0.027349     0.310531          0.243936   \n",
       "total_rec_int                   -0.019651     0.130588          0.069566   \n",
       "total_rec_late_fee              -0.003532     0.012035         -0.005927   \n",
       "recoveries                      -0.004649     0.005425          0.000271   \n",
       "collection_recovery_fee         -0.003091     0.006370          0.001986   \n",
       "collections_12_mths_ex_med       0.050979    -0.010753         -0.016287   \n",
       "mths_since_last_major_derog      0.032871    -0.071692         -0.019445   \n",
       "acc_now_delinq                   0.000920     0.023738          0.007869   \n",
       "tot_coll_amt                     1.000000    -0.007797         -0.022442   \n",
       "tot_cur_bal                     -0.007797     1.000000          0.371000   \n",
       "total_rev_hi_lim                -0.022442     0.371000          1.000000   \n",
       "loan_status                     -0.013121     0.014158         -0.019330   \n",
       "\n",
       "                             loan_status  \n",
       "member_id                      -0.490264  \n",
       "loan_amnt                      -0.095438  \n",
       "funded_amnt                    -0.097337  \n",
       "funded_amnt_inv                -0.101644  \n",
       "int_rate                        0.001947  \n",
       "annual_inc                     -0.009043  \n",
       "dti                            -0.132718  \n",
       "delinq_2yrs                    -0.045732  \n",
       "inq_last_6mths                  0.087725  \n",
       "mths_since_last_delinq          0.028167  \n",
       "mths_since_last_record          0.074329  \n",
       "open_acc                       -0.064340  \n",
       "pub_rec                        -0.049616  \n",
       "revol_bal                      -0.040913  \n",
       "revol_util                     -0.047187  \n",
       "total_acc                      -0.001895  \n",
       "total_rec_int                   0.038676  \n",
       "total_rec_late_fee             -0.003989  \n",
       "recoveries                     -0.061604  \n",
       "collection_recovery_fee        -0.042475  \n",
       "collections_12_mths_ex_med     -0.034328  \n",
       "mths_since_last_major_derog    -0.010868  \n",
       "acc_now_delinq                 -0.013909  \n",
       "tot_coll_amt                   -0.013121  \n",
       "tot_cur_bal                     0.014158  \n",
       "total_rev_hi_lim               -0.019330  \n",
       "loan_status                     1.000000  \n",
       "\n",
       "[27 rows x 27 columns]"
      ]
     },
     "execution_count": 10,
     "metadata": {},
     "output_type": "execute_result"
    }
   ],
   "source": [
    "data.corr()"
   ]
  },
  {
   "cell_type": "code",
   "execution_count": 11,
   "metadata": {},
   "outputs": [
    {
     "data": {
      "text/plain": [
       "Text(0.5,1,'data.corr()')"
      ]
     },
     "execution_count": 11,
     "metadata": {},
     "output_type": "execute_result"
    },
    {
     "data": {
      "image/png": "[encoded data removed]",
      "text/plain": [
       "<matplotlib.figure.Figure at 0x2b2316f2d30>"
      ]
     },
     "metadata": {},
     "output_type": "display_data"
    }
   ],
   "source": [
    "sns.heatmap(data.corr(),cmap='coolwarm',xticklabels=True)\n",
    "plt.title('data.corr()')"
   ]
  },
  {
   "cell_type": "code",
   "execution_count": 12,
   "metadata": {
    "collapsed": true
   },
   "outputs": [],
   "source": [
    "m_s_l_m_d=data[\"mths_since_last_major_derog\"]"
   ]
  },
  {
   "cell_type": "code",
   "execution_count": 13,
   "metadata": {
    "collapsed": true
   },
   "outputs": [],
   "source": [
    "verification=data[\"verification_status_joint\"]"
   ]
  },
  {
   "cell_type": "code",
   "execution_count": 14,
   "metadata": {
    "collapsed": true
   },
   "outputs": [],
   "source": [
    "desc=data[\"desc\"]"
   ]
  },
  {
   "cell_type": "code",
   "execution_count": 15,
   "metadata": {
    "collapsed": true
   },
   "outputs": [],
   "source": [
    "month_since_last_record=data[\"mths_since_last_record\"]"
   ]
  },
  {
   "cell_type": "code",
   "execution_count": 16,
   "metadata": {
    "collapsed": true
   },
   "outputs": [],
   "source": [
    "data.drop([\"verification_status_joint\",\"mths_since_last_record\",\"desc\",\"mths_since_last_major_derog\"],inplace=True,axis=1)"
   ]
  },
  {
   "cell_type": "code",
   "execution_count": 17,
   "metadata": {},
   "outputs": [
    {
     "name": "stdout",
     "output_type": "stream",
     "text": [
      "<class 'pandas.core.frame.DataFrame'>\n",
      "RangeIndex: 425903 entries, 0 to 425902\n",
      "Data columns (total 41 columns):\n",
      "member_id                     425903 non-null int64\n",
      "loan_amnt                     425903 non-null int64\n",
      "funded_amnt                   425903 non-null int64\n",
      "funded_amnt_inv               425903 non-null float64\n",
      "term                          425903 non-null object\n",
      "batch_enrolled                357642 non-null object\n",
      "int_rate                      425903 non-null float64\n",
      "grade                         425903 non-null object\n",
      "sub_grade                     425903 non-null object\n",
      "emp_title                     401427 non-null object\n",
      "emp_length                    425903 non-null object\n",
      "home_ownership                425903 non-null object\n",
      "annual_inc                    425900 non-null float64\n",
      "verification_status           425903 non-null object\n",
      "pymnt_plan                    425903 non-null object\n",
      "purpose                       425903 non-null object\n",
      "title                         425829 non-null object\n",
      "zip_code                      425903 non-null object\n",
      "addr_state                    425903 non-null object\n",
      "dti                           425903 non-null float64\n",
      "delinq_2yrs                   425892 non-null float64\n",
      "inq_last_6mths                425892 non-null float64\n",
      "mths_since_last_delinq        207813 non-null float64\n",
      "open_acc                      425892 non-null float64\n",
      "pub_rec                       425892 non-null float64\n",
      "revol_bal                     425903 non-null float64\n",
      "revol_util                    425672 non-null float64\n",
      "total_acc                     425892 non-null float64\n",
      "initial_list_status           425903 non-null object\n",
      "total_rec_int                 425903 non-null float64\n",
      "total_rec_late_fee            425903 non-null float64\n",
      "recoveries                    425903 non-null float64\n",
      "collection_recovery_fee       425903 non-null float64\n",
      "collections_12_mths_ex_med    425830 non-null float64\n",
      "application_type              425903 non-null object\n",
      "last_week_pay                 425903 non-null object\n",
      "acc_now_delinq                425892 non-null float64\n",
      "tot_coll_amt                  392352 non-null float64\n",
      "tot_cur_bal                   392352 non-null float64\n",
      "total_rev_hi_lim              392352 non-null float64\n",
      "loan_status                   425903 non-null int64\n",
      "dtypes: float64(21), int64(4), object(16)\n",
      "memory usage: 133.2+ MB\n"
     ]
    }
   ],
   "source": [
    "data.info()"
   ]
  },
  {
   "cell_type": "code",
   "execution_count": 18,
   "metadata": {},
   "outputs": [
    {
     "data": {
      "text/plain": [
       "<matplotlib.axes._subplots.AxesSubplot at 0x2b21b6cccc0>"
      ]
     },
     "execution_count": 18,
     "metadata": {},
     "output_type": "execute_result"
    },
    {
     "data": {
      "image/png": "[encoded data removed]",
      "text/plain": [
       "<matplotlib.figure.Figure at 0x2b2314f2b38>"
      ]
     },
     "metadata": {},
     "output_type": "display_data"
    }
   ],
   "source": [
    "ms.matrix(data)"
   ]
  },
  {
   "cell_type": "code",
   "execution_count": 19,
   "metadata": {},
   "outputs": [
    {
     "data": {
      "text/plain": [
       "<seaborn.axisgrid.JointGrid at 0x2b231962b00>"
      ]
     },
     "execution_count": 19,
     "metadata": {},
     "output_type": "execute_result"
    },
    {
     "data": {
      "image/png": "[encoded data removed]",
      "text/plain": [
       "<matplotlib.figure.Figure at 0x2b2319627b8>"
      ]
     },
     "metadata": {},
     "output_type": "display_data"
    }
   ],
   "source": [
    "sns.jointplot(x='loan_amnt',y='annual_inc',data=data)"
   ]
  },
  {
   "cell_type": "code",
   "execution_count": 22,
   "metadata": {
    "collapsed": true
   },
   "outputs": [],
   "source": [
    "data[\"annual_inc\"].fillna(value=data[\"annual_inc\"].min(),inplace=True)"
   ]
  },
  {
   "cell_type": "code",
   "execution_count": 23,
   "metadata": {
    "collapsed": true
   },
   "outputs": [],
   "source": [
    "data[\"delinq_2yrs\"].fillna(value=data[\"delinq_2yrs\"].median(),inplace=True)"
   ]
  },
  {
   "cell_type": "code",
   "execution_count": 24,
   "metadata": {
    "collapsed": true
   },
   "outputs": [],
   "source": [
    "data[\"inq_last_6mths\"].fillna(value=data[\"inq_last_6mths\"].median(),inplace=True)"
   ]
  },
  {
   "cell_type": "code",
   "execution_count": 25,
   "metadata": {
    "collapsed": true
   },
   "outputs": [],
   "source": [
    "data[\"open_acc\"].fillna(value=data[\"open_acc\"].median(),inplace=True)"
   ]
  },
  {
   "cell_type": "code",
   "execution_count": 26,
   "metadata": {
    "collapsed": true
   },
   "outputs": [],
   "source": [
    "data[\"pub_rec\"].fillna(value=data[\"pub_rec\"].median(),inplace=True)"
   ]
  },
  {
   "cell_type": "code",
   "execution_count": 27,
   "metadata": {
    "collapsed": true
   },
   "outputs": [],
   "source": [
    "data[\"revol_util\"].fillna(value=data[\"revol_util\"].median(),inplace=True)"
   ]
  },
  {
   "cell_type": "code",
   "execution_count": 28,
   "metadata": {
    "collapsed": true
   },
   "outputs": [],
   "source": [
    "data[\"total_acc\"].fillna(value=data[\"total_acc\"].median(),inplace=True)"
   ]
  },
  {
   "cell_type": "code",
   "execution_count": 29,
   "metadata": {
    "collapsed": true
   },
   "outputs": [],
   "source": [
    "data[\"total_acc\"].fillna(value=data[\"total_acc\"].median(),inplace=True)"
   ]
  },
  {
   "cell_type": "code",
   "execution_count": 30,
   "metadata": {
    "collapsed": true
   },
   "outputs": [],
   "source": [
    "data[\"collections_12_mths_ex_med\"].fillna(value=data[\"collections_12_mths_ex_med\"].median(),inplace=True)"
   ]
  },
  {
   "cell_type": "code",
   "execution_count": 31,
   "metadata": {
    "collapsed": true
   },
   "outputs": [],
   "source": [
    "data[\"acc_now_delinq\"].fillna(value=data[\"acc_now_delinq\"].median(),inplace=True)"
   ]
  },
  {
   "cell_type": "code",
   "execution_count": 32,
   "metadata": {
    "collapsed": true
   },
   "outputs": [],
   "source": [
    "def impute_bal(cols):\n",
    "    tot_cur_bal = cols[0]\n",
    "    annual_inc = cols[1]\n",
    "    \n",
    "    if pd.isnull(tot_cur_bal):\n",
    "        \n",
    "        if annual_inc >= 5.5 and annual_inc <=9.5:\n",
    "            return data[\"tot_cur_bal\"].median()\n",
    "        \n",
    "        elif annual_inc <5.5 and annual_inc >=1.5 :\n",
    "            return data[\"tot_cur_bal\"].mean()\n",
    "        \n",
    "        else:\n",
    "            return data[\"tot_cur_bal\"].min()\n",
    "\n",
    "    else:\n",
    "        return tot_cur_bal\n",
    "\n"
   ]
  },
  {
   "cell_type": "code",
   "execution_count": 33,
   "metadata": {
    "collapsed": true
   },
   "outputs": [],
   "source": [
    "data[\"tot_cur_bal\"] = data[['annual_inc','tot_cur_bal']].apply(impute_bal,axis=1)"
   ]
  },
  {
   "cell_type": "code",
   "execution_count": 34,
   "metadata": {
    "collapsed": true
   },
   "outputs": [],
   "source": [
    "def impute_rev(cols):\n",
    "    total_rev_hi_lim = cols[0]\n",
    "    annual_inc = cols[1]\n",
    "    \n",
    "    if pd.isnull(total_rev_hi_lim):\n",
    "        \n",
    "        if annual_inc >= 5.5 and annual_inc <=9.5:\n",
    "            return data[\"total_rev_hi_lim\"].std()\n",
    "        \n",
    "        elif annual_inc <5.5 and annual_inc >=1.5 :\n",
    "            return data[\"total_rev_hi_lim\"].median()\n",
    "        \n",
    "        else:\n",
    "            return data[\"total_rev_hi_lim\"].mean()\n",
    "\n",
    "    else:\n",
    "        return total_rev_hi_lim\n",
    "\n"
   ]
  },
  {
   "cell_type": "code",
   "execution_count": 35,
   "metadata": {
    "collapsed": true
   },
   "outputs": [],
   "source": [
    "data[\"total_rev_hi_lim\"] = data[['annual_inc','total_rev_hi_lim']].apply(impute_rev,axis=1)"
   ]
  },
  {
   "cell_type": "code",
   "execution_count": 36,
   "metadata": {
    "collapsed": true
   },
   "outputs": [],
   "source": [
    "def impute_amt(cols):\n",
    "    tot_coll_amt = cols[0]\n",
    "    annual_inc = cols[1]\n",
    "    \n",
    "    if pd.isnull(tot_coll_amt):\n",
    "        \n",
    "        if annual_inc >= 5.5 and annual_inc <=9.5:\n",
    "            return data[\"tot_coll_amt\"].std()\n",
    "        \n",
    "        elif annual_inc <5.5 and annual_inc >=1.5 :\n",
    "            return data[\"tot_coll_amt\"].mean()\n",
    "        \n",
    "        else:\n",
    "            return data[\"tot_coll_amt\"].median()\n",
    "\n",
    "    else:\n",
    "        return tot_coll_amt\n",
    "\n"
   ]
  },
  {
   "cell_type": "code",
   "execution_count": 37,
   "metadata": {
    "collapsed": true
   },
   "outputs": [],
   "source": [
    "data[\"tot_coll_amt\"] = data[['annual_inc','tot_coll_amt']].apply(impute_amt,axis=1)"
   ]
  },
  {
   "cell_type": "code",
   "execution_count": 38,
   "metadata": {},
   "outputs": [
    {
     "name": "stdout",
     "output_type": "stream",
     "text": [
      "<class 'pandas.core.frame.DataFrame'>\n",
      "RangeIndex: 425903 entries, 0 to 425902\n",
      "Data columns (total 41 columns):\n",
      "member_id                     425903 non-null int64\n",
      "loan_amnt                     425903 non-null int64\n",
      "funded_amnt                   425903 non-null int64\n",
      "funded_amnt_inv               425903 non-null float64\n",
      "term                          425903 non-null object\n",
      "batch_enrolled                357642 non-null object\n",
      "int_rate                      425903 non-null float64\n",
      "grade                         425903 non-null object\n",
      "sub_grade                     425903 non-null object\n",
      "emp_title                     401427 non-null object\n",
      "emp_length                    425903 non-null object\n",
      "home_ownership                425903 non-null object\n",
      "annual_inc                    425903 non-null float64\n",
      "verification_status           425903 non-null object\n",
      "pymnt_plan                    425903 non-null object\n",
      "purpose                       425903 non-null object\n",
      "title                         425829 non-null object\n",
      "zip_code                      425903 non-null object\n",
      "addr_state                    425903 non-null object\n",
      "dti                           425903 non-null float64\n",
      "delinq_2yrs                   425903 non-null float64\n",
      "inq_last_6mths                425903 non-null float64\n",
      "mths_since_last_delinq        207813 non-null float64\n",
      "open_acc                      425903 non-null float64\n",
      "pub_rec                       425903 non-null float64\n",
      "revol_bal                     425903 non-null float64\n",
      "revol_util                    425903 non-null float64\n",
      "total_acc                     425903 non-null float64\n",
      "initial_list_status           425903 non-null object\n",
      "total_rec_int                 425903 non-null float64\n",
      "total_rec_late_fee            425903 non-null float64\n",
      "recoveries                    425903 non-null float64\n",
      "collection_recovery_fee       425903 non-null float64\n",
      "collections_12_mths_ex_med    425903 non-null float64\n",
      "application_type              425903 non-null object\n",
      "last_week_pay                 425903 non-null object\n",
      "acc_now_delinq                425903 non-null float64\n",
      "tot_coll_amt                  425903 non-null float64\n",
      "tot_cur_bal                   425903 non-null float64\n",
      "total_rev_hi_lim              425903 non-null float64\n",
      "loan_status                   425903 non-null int64\n",
      "dtypes: float64(21), int64(4), object(16)\n",
      "memory usage: 133.2+ MB\n"
     ]
    }
   ],
   "source": [
    "data.info()"
   ]
  },
  {
   "cell_type": "code",
   "execution_count": 39,
   "metadata": {
    "collapsed": true
   },
   "outputs": [],
   "source": [
    "data[\"acc_now_delinq\"].fillna(value=data[\"acc_now_delinq\"].median(),inplace=True)"
   ]
  },
  {
   "cell_type": "code",
   "execution_count": 40,
   "metadata": {},
   "outputs": [
    {
     "data": {
      "text/plain": [
       "array(['36 months', '60 months'], dtype=object)"
      ]
     },
     "execution_count": 40,
     "metadata": {},
     "output_type": "execute_result"
    }
   ],
   "source": [
    "data[\"term\"].unique()"
   ]
  },
  {
   "cell_type": "code",
   "execution_count": 41,
   "metadata": {},
   "outputs": [
    {
     "data": {
      "text/plain": [
       "36 months    298178\n",
       "60 months    127725\n",
       "Name: term, dtype: int64"
      ]
     },
     "execution_count": 41,
     "metadata": {},
     "output_type": "execute_result"
    }
   ],
   "source": [
    "data[\"term\"].value_counts()"
   ]
  },
  {
   "cell_type": "code",
   "execution_count": 42,
   "metadata": {
    "collapsed": true
   },
   "outputs": [],
   "source": [
    "term_df = pd.get_dummies(data['term'],drop_first=200)\n"
   ]
  },
  {
   "cell_type": "code",
   "execution_count": 43,
   "metadata": {},
   "outputs": [
    {
     "data": {
      "text/plain": [
       "array(['A', 'C', 'B', 'D', 'E', 'G', 'F'], dtype=object)"
      ]
     },
     "execution_count": 43,
     "metadata": {},
     "output_type": "execute_result"
    }
   ],
   "source": [
    "data[\"grade\"].unique()"
   ]
  },
  {
   "cell_type": "code",
   "execution_count": 44,
   "metadata": {},
   "outputs": [
    {
     "data": {
      "text/plain": [
       "B    122145\n",
       "C    117817\n",
       "A     71373\n",
       "D     66811\n",
       "E     34119\n",
       "F     11062\n",
       "G      2576\n",
       "Name: grade, dtype: int64"
      ]
     },
     "execution_count": 44,
     "metadata": {},
     "output_type": "execute_result"
    }
   ],
   "source": [
    "data[\"grade\"].value_counts()"
   ]
  },
  {
   "cell_type": "code",
   "execution_count": 45,
   "metadata": {
    "collapsed": true
   },
   "outputs": [],
   "source": [
    "grade_df = pd.get_dummies(data['grade'],drop_first=200)"
   ]
  },
  {
   "cell_type": "code",
   "execution_count": 46,
   "metadata": {},
   "outputs": [
    {
     "data": {
      "text/plain": [
       "<matplotlib.axes._subplots.AxesSubplot at 0x2b21bca0198>"
      ]
     },
     "execution_count": 46,
     "metadata": {},
     "output_type": "execute_result"
    },
    {
     "data": {
      "image/png": "[encoded data removed]",
      "text/plain": [
       "<matplotlib.figure.Figure at 0x2b21b7c4cc0>"
      ]
     },
     "metadata": {},
     "output_type": "display_data"
    }
   ],
   "source": [
    "sns.set_style('whitegrid')\n",
    "sns.countplot(x='loan_status',hue='grade',data=data,palette='RdBu_r')"
   ]
  },
  {
   "cell_type": "code",
   "execution_count": 47,
   "metadata": {
    "collapsed": true
   },
   "outputs": [],
   "source": [
    "sub_g=data['sub_grade']"
   ]
  },
  {
   "cell_type": "code",
   "execution_count": 48,
   "metadata": {
    "collapsed": true
   },
   "outputs": [],
   "source": [
    "data.drop(\"sub_grade\",axis=1,inplace=True)"
   ]
  },
  {
   "cell_type": "code",
   "execution_count": 49,
   "metadata": {
    "collapsed": true
   },
   "outputs": [],
   "source": [
    "emp_tit=data[\"emp_title\"]"
   ]
  },
  {
   "cell_type": "code",
   "execution_count": 50,
   "metadata": {
    "collapsed": true
   },
   "outputs": [],
   "source": [
    "data.drop(\"emp_title\",axis=1,inplace=True)"
   ]
  },
  {
   "cell_type": "code",
   "execution_count": 51,
   "metadata": {},
   "outputs": [
    {
     "data": {
      "text/plain": [
       "array(['< 1 year', '10+ years', '1 year', '7 years', '3 years', '8 years',\n",
       "       '5 years', '2 years', '4 years', '9 years', '6 years', 'n/a'], dtype=object)"
      ]
     },
     "execution_count": 51,
     "metadata": {},
     "output_type": "execute_result"
    }
   ],
   "source": [
    "data[\"emp_length\"].unique()"
   ]
  },
  {
   "cell_type": "code",
   "execution_count": 52,
   "metadata": {},
   "outputs": [
    {
     "data": {
      "text/plain": [
       "10+ years    140106\n",
       "2 years       37918\n",
       "3 years       33835\n",
       "< 1 year      33695\n",
       "1 year        27435\n",
       "5 years       26670\n",
       "4 years       25163\n",
       "n/a           21353\n",
       "7 years       21330\n",
       "8 years       21272\n",
       "6 years       20617\n",
       "9 years       16509\n",
       "Name: emp_length, dtype: int64"
      ]
     },
     "execution_count": 52,
     "metadata": {},
     "output_type": "execute_result"
    }
   ],
   "source": [
    "data[\"emp_length\"].value_counts()"
   ]
  },
  {
   "cell_type": "code",
   "execution_count": 53,
   "metadata": {},
   "outputs": [
    {
     "data": {
      "text/plain": [
       "<matplotlib.axes._subplots.AxesSubplot at 0x2b21bd366d8>"
      ]
     },
     "execution_count": 53,
     "metadata": {},
     "output_type": "execute_result"
    },
    {
     "data": {
      "image/png": "[encoded data removed]",
      "text/plain": [
       "<matplotlib.figure.Figure at 0x2b21b7d27b8>"
      ]
     },
     "metadata": {},
     "output_type": "display_data"
    }
   ],
   "source": [
    "sns.set_style('whitegrid')\n",
    "sns.countplot(x='loan_status',hue='emp_length',data=data,palette='RdBu_r')"
   ]
  },
  {
   "cell_type": "code",
   "execution_count": 54,
   "metadata": {
    "collapsed": true
   },
   "outputs": [],
   "source": [
    "h_owner=data[\"home_ownership\"]"
   ]
  },
  {
   "cell_type": "code",
   "execution_count": 55,
   "metadata": {},
   "outputs": [
    {
     "data": {
      "text/plain": [
       "array(['RENT', 'NONE', 'MORTGAGE', 'OWN', 'OTHER', 'ANY'], dtype=object)"
      ]
     },
     "execution_count": 55,
     "metadata": {},
     "output_type": "execute_result"
    }
   ],
   "source": [
    "data[\"home_ownership\"].unique()"
   ]
  },
  {
   "cell_type": "code",
   "execution_count": 56,
   "metadata": {},
   "outputs": [
    {
     "data": {
      "text/plain": [
       "MORTGAGE    212991\n",
       "RENT        170731\n",
       "OWN          42058\n",
       "OTHER           90\n",
       "NONE            32\n",
       "ANY              1\n",
       "Name: home_ownership, dtype: int64"
      ]
     },
     "execution_count": 56,
     "metadata": {},
     "output_type": "execute_result"
    }
   ],
   "source": [
    "data[\"home_ownership\"].value_counts()"
   ]
  },
  {
   "cell_type": "code",
   "execution_count": 57,
   "metadata": {
    "collapsed": true
   },
   "outputs": [],
   "source": [
    "home_df = pd.get_dummies(data['home_ownership'],drop_first=200)\n"
   ]
  },
  {
   "cell_type": "code",
   "execution_count": 58,
   "metadata": {},
   "outputs": [
    {
     "data": {
      "text/plain": [
       "<matplotlib.axes._subplots.AxesSubplot at 0x2b21bd974e0>"
      ]
     },
     "execution_count": 58,
     "metadata": {},
     "output_type": "execute_result"
    },
    {
     "data": {
      "image/png": "[encoded data removed]",
      "text/plain": [
       "<matplotlib.figure.Figure at 0x2b21bbbd198>"
      ]
     },
     "metadata": {},
     "output_type": "display_data"
    }
   ],
   "source": [
    "sns.set_style('whitegrid')\n",
    "sns.countplot(x='loan_status',hue='home_ownership',data=data,palette='RdBu_r')"
   ]
  },
  {
   "cell_type": "code",
   "execution_count": 59,
   "metadata": {},
   "outputs": [
    {
     "data": {
      "text/plain": [
       "array(['Not Verified', 'Verified', 'Source Verified'], dtype=object)"
      ]
     },
     "execution_count": 59,
     "metadata": {},
     "output_type": "execute_result"
    }
   ],
   "source": [
    "data[\"verification_status\"].unique()"
   ]
  },
  {
   "cell_type": "code",
   "execution_count": 60,
   "metadata": {},
   "outputs": [
    {
     "data": {
      "text/plain": [
       "Source Verified    158328\n",
       "Verified           139735\n",
       "Not Verified       127840\n",
       "Name: verification_status, dtype: int64"
      ]
     },
     "execution_count": 60,
     "metadata": {},
     "output_type": "execute_result"
    }
   ],
   "source": [
    "data['verification_status'].value_counts()"
   ]
  },
  {
   "cell_type": "code",
   "execution_count": 61,
   "metadata": {
    "collapsed": true
   },
   "outputs": [],
   "source": [
    "verfi_df = pd.get_dummies(data['verification_status'],drop_first=200)\n"
   ]
  },
  {
   "cell_type": "code",
   "execution_count": 62,
   "metadata": {},
   "outputs": [
    {
     "data": {
      "text/plain": [
       "<matplotlib.axes._subplots.AxesSubplot at 0x2b21bd5e358>"
      ]
     },
     "execution_count": 62,
     "metadata": {},
     "output_type": "execute_result"
    },
    {
     "data": {
      "image/png": "[encoded data removed]",
      "text/plain": [
       "<matplotlib.figure.Figure at 0x2b2316eb7b8>"
      ]
     },
     "metadata": {},
     "output_type": "display_data"
    }
   ],
   "source": [
    "sns.set_style('whitegrid')\n",
    "sns.countplot(x='loan_status',hue='verification_status',data=data,palette='RdBu_r')"
   ]
  },
  {
   "cell_type": "code",
   "execution_count": 63,
   "metadata": {
    "collapsed": true
   },
   "outputs": [],
   "source": [
    "payment_plan=data[\"pymnt_plan\"]"
   ]
  },
  {
   "cell_type": "code",
   "execution_count": 64,
   "metadata": {},
   "outputs": [
    {
     "data": {
      "text/plain": [
       "array(['n', 'y'], dtype=object)"
      ]
     },
     "execution_count": 64,
     "metadata": {},
     "output_type": "execute_result"
    }
   ],
   "source": [
    "data[\"pymnt_plan\"].unique()"
   ]
  },
  {
   "cell_type": "code",
   "execution_count": 65,
   "metadata": {},
   "outputs": [
    {
     "data": {
      "text/plain": [
       "n    425896\n",
       "y         7\n",
       "Name: pymnt_plan, dtype: int64"
      ]
     },
     "execution_count": 65,
     "metadata": {},
     "output_type": "execute_result"
    }
   ],
   "source": [
    "data[\"pymnt_plan\"].value_counts()"
   ]
  },
  {
   "cell_type": "code",
   "execution_count": 66,
   "metadata": {
    "collapsed": true
   },
   "outputs": [],
   "source": [
    "paymnt_df = pd.get_dummies(data['pymnt_plan'],drop_first=200)\n"
   ]
  },
  {
   "cell_type": "code",
   "execution_count": 67,
   "metadata": {},
   "outputs": [
    {
     "data": {
      "text/plain": [
       "array(['other', 'debt_consolidation', 'medical', 'credit_card',\n",
       "       'educational', 'home_improvement', 'car', 'vacation',\n",
       "       'small_business', 'moving', 'wedding', 'house', 'major_purchase',\n",
       "       'renewable_energy'], dtype=object)"
      ]
     },
     "execution_count": 67,
     "metadata": {},
     "output_type": "execute_result"
    }
   ],
   "source": [
    "data[\"purpose\"].unique()"
   ]
  },
  {
   "cell_type": "code",
   "execution_count": 68,
   "metadata": {
    "collapsed": true
   },
   "outputs": [],
   "source": [
    "purpose_df = pd.get_dummies(data['purpose'],drop_first=200)\n"
   ]
  },
  {
   "cell_type": "code",
   "execution_count": 69,
   "metadata": {
    "collapsed": true
   },
   "outputs": [],
   "source": [
    "d_title=data[\"title\"]"
   ]
  },
  {
   "cell_type": "code",
   "execution_count": 70,
   "metadata": {
    "collapsed": true
   },
   "outputs": [],
   "source": [
    "data.drop(\"title\",axis=1,inplace=True)"
   ]
  },
  {
   "cell_type": "code",
   "execution_count": 71,
   "metadata": {
    "collapsed": true
   },
   "outputs": [],
   "source": [
    "zip_cod=data[\"zip_code\"]"
   ]
  },
  {
   "cell_type": "code",
   "execution_count": 72,
   "metadata": {
    "collapsed": true
   },
   "outputs": [],
   "source": [
    "data.drop(\"zip_code\",axis=1,inplace=True)"
   ]
  },
  {
   "cell_type": "code",
   "execution_count": 73,
   "metadata": {
    "collapsed": true
   },
   "outputs": [],
   "source": [
    "add_state=data[\"addr_state\"]"
   ]
  },
  {
   "cell_type": "code",
   "execution_count": 74,
   "metadata": {
    "collapsed": true
   },
   "outputs": [],
   "source": [
    "data.drop(\"addr_state\",axis=1,inplace=True)"
   ]
  },
  {
   "cell_type": "code",
   "execution_count": 75,
   "metadata": {},
   "outputs": [
    {
     "data": {
      "text/plain": [
       "array(['f', 'w'], dtype=object)"
      ]
     },
     "execution_count": 75,
     "metadata": {},
     "output_type": "execute_result"
    }
   ],
   "source": [
    "data[\"initial_list_status\"].unique()"
   ]
  },
  {
   "cell_type": "code",
   "execution_count": 76,
   "metadata": {},
   "outputs": [
    {
     "data": {
      "text/plain": [
       "f    219094\n",
       "w    206809\n",
       "Name: initial_list_status, dtype: int64"
      ]
     },
     "execution_count": 76,
     "metadata": {},
     "output_type": "execute_result"
    }
   ],
   "source": [
    "data[\"initial_list_status\"].value_counts()"
   ]
  },
  {
   "cell_type": "code",
   "execution_count": 77,
   "metadata": {
    "collapsed": true
   },
   "outputs": [],
   "source": [
    "initial_l_s_df = pd.get_dummies(data['initial_list_status'],drop_first=200)"
   ]
  },
  {
   "cell_type": "code",
   "execution_count": 78,
   "metadata": {},
   "outputs": [
    {
     "data": {
      "text/plain": [
       "<matplotlib.axes._subplots.AxesSubplot at 0x2b21bdd8a58>"
      ]
     },
     "execution_count": 78,
     "metadata": {},
     "output_type": "execute_result"
    },
    {
     "data": {
      "image/png": "[encoded data removed]",
      "text/plain": [
       "<matplotlib.figure.Figure at 0x2b21be4b400>"
      ]
     },
     "metadata": {},
     "output_type": "display_data"
    }
   ],
   "source": [
    "sns.set_style('whitegrid')\n",
    "sns.countplot(x='loan_status',hue='initial_list_status',data=data,palette='RdBu_r')"
   ]
  },
  {
   "cell_type": "code",
   "execution_count": 79,
   "metadata": {},
   "outputs": [
    {
     "data": {
      "text/plain": [
       "array(['INDIVIDUAL', 'JOINT'], dtype=object)"
      ]
     },
     "execution_count": 79,
     "metadata": {},
     "output_type": "execute_result"
    }
   ],
   "source": [
    "data[\"application_type\"].unique()"
   ]
  },
  {
   "cell_type": "code",
   "execution_count": 80,
   "metadata": {},
   "outputs": [
    {
     "data": {
      "text/plain": [
       "INDIVIDUAL    425655\n",
       "JOINT            248\n",
       "Name: application_type, dtype: int64"
      ]
     },
     "execution_count": 80,
     "metadata": {},
     "output_type": "execute_result"
    }
   ],
   "source": [
    "data[\"application_type\"].value_counts()"
   ]
  },
  {
   "cell_type": "code",
   "execution_count": 81,
   "metadata": {
    "collapsed": true
   },
   "outputs": [],
   "source": [
    "app_type=data[\"application_type\"]"
   ]
  },
  {
   "cell_type": "code",
   "execution_count": 82,
   "metadata": {
    "collapsed": true
   },
   "outputs": [],
   "source": [
    "app_type_df = pd.get_dummies(data['application_type'],drop_first=200)"
   ]
  },
  {
   "cell_type": "code",
   "execution_count": 83,
   "metadata": {},
   "outputs": [
    {
     "data": {
      "text/plain": [
       "<matplotlib.axes._subplots.AxesSubplot at 0x2b21c8ce4a8>"
      ]
     },
     "execution_count": 83,
     "metadata": {},
     "output_type": "execute_result"
    },
    {
     "data": {
      "image/png": "[encoded data removed]",
      "text/plain": [
       "<matplotlib.figure.Figure at 0x2b21be370b8>"
      ]
     },
     "metadata": {},
     "output_type": "display_data"
    }
   ],
   "source": [
    "sns.set_style('whitegrid')\n",
    "sns.countplot(x='loan_status',hue='application_type',data=data,palette='RdBu_r')"
   ]
  },
  {
   "cell_type": "code",
   "execution_count": 84,
   "metadata": {
    "collapsed": true
   },
   "outputs": [],
   "source": [
    "data.drop([\"term\",\"grade\",\"home_ownership\"],axis=1,inplace=True)"
   ]
  },
  {
   "cell_type": "code",
   "execution_count": 85,
   "metadata": {
    "collapsed": true
   },
   "outputs": [],
   "source": [
    "data.drop([\"verification_status\",\"pymnt_plan\",\"purpose\",\"initial_list_status\",\"application_type\"],axis=1,inplace=True)"
   ]
  },
  {
   "cell_type": "code",
   "execution_count": 86,
   "metadata": {
    "collapsed": true
   },
   "outputs": [],
   "source": [
    "batch_enroll=data['batch_enrolled']"
   ]
  },
  {
   "cell_type": "code",
   "execution_count": 87,
   "metadata": {
    "collapsed": true
   },
   "outputs": [],
   "source": [
    "data.drop(\"batch_enrolled\",axis=1,inplace=True)"
   ]
  },
  {
   "cell_type": "code",
   "execution_count": 88,
   "metadata": {},
   "outputs": [
    {
     "data": {
      "text/plain": [
       "10+ years    140106\n",
       "2 years       37918\n",
       "3 years       33835\n",
       "< 1 year      33695\n",
       "1 year        27435\n",
       "5 years       26670\n",
       "4 years       25163\n",
       "n/a           21353\n",
       "7 years       21330\n",
       "8 years       21272\n",
       "6 years       20617\n",
       "9 years       16509\n",
       "Name: emp_length, dtype: int64"
      ]
     },
     "execution_count": 88,
     "metadata": {},
     "output_type": "execute_result"
    }
   ],
   "source": [
    "data[\"emp_length\"].value_counts()"
   ]
  },
  {
   "cell_type": "code",
   "execution_count": 89,
   "metadata": {
    "collapsed": true
   },
   "outputs": [],
   "source": [
    "emp_len=data[\"emp_length\"]"
   ]
  },
  {
   "cell_type": "code",
   "execution_count": 90,
   "metadata": {
    "collapsed": true
   },
   "outputs": [],
   "source": [
    "emp_len_df= pd.get_dummies(data['emp_length'],drop_first=200)"
   ]
  },
  {
   "cell_type": "code",
   "execution_count": 91,
   "metadata": {
    "collapsed": true
   },
   "outputs": [],
   "source": [
    "data.drop(\"emp_length\",axis=1,inplace=True)"
   ]
  },
  {
   "cell_type": "code",
   "execution_count": 92,
   "metadata": {
    "collapsed": true
   },
   "outputs": [],
   "source": [
    "last_w_pay=data[\"last_week_pay\"]"
   ]
  },
  {
   "cell_type": "code",
   "execution_count": 93,
   "metadata": {
    "collapsed": true
   },
   "outputs": [],
   "source": [
    "data.drop(\"last_week_pay\",axis=1,inplace=True)"
   ]
  },
  {
   "cell_type": "code",
   "execution_count": 94,
   "metadata": {
    "collapsed": true
   },
   "outputs": [],
   "source": [
    " data = pd.concat([data,term_df,grade_df,home_df,verfi_df,paymnt_df,purpose_df,initial_l_s_df,app_type_df,emp_len_df],axis=1)"
   ]
  },
  {
   "cell_type": "code",
   "execution_count": 95,
   "metadata": {},
   "outputs": [
    {
     "name": "stdout",
     "output_type": "stream",
     "text": [
      "<class 'pandas.core.frame.DataFrame'>\n",
      "RangeIndex: 425903 entries, 0 to 425902\n",
      "Data columns (total 66 columns):\n",
      "member_id                     425903 non-null int64\n",
      "loan_amnt                     425903 non-null int64\n",
      "funded_amnt                   425903 non-null int64\n",
      "funded_amnt_inv               425903 non-null float64\n",
      "int_rate                      425903 non-null float64\n",
      "annual_inc                    425903 non-null float64\n",
      "dti                           425903 non-null float64\n",
      "delinq_2yrs                   425903 non-null float64\n",
      "inq_last_6mths                425903 non-null float64\n",
      "mths_since_last_delinq        207813 non-null float64\n",
      "open_acc                      425903 non-null float64\n",
      "pub_rec                       425903 non-null float64\n",
      "revol_bal                     425903 non-null float64\n",
      "revol_util                    425903 non-null float64\n",
      "total_acc                     425903 non-null float64\n",
      "total_rec_int                 425903 non-null float64\n",
      "total_rec_late_fee            425903 non-null float64\n",
      "recoveries                    425903 non-null float64\n",
      "collection_recovery_fee       425903 non-null float64\n",
      "collections_12_mths_ex_med    425903 non-null float64\n",
      "acc_now_delinq                425903 non-null float64\n",
      "tot_coll_amt                  425903 non-null float64\n",
      "tot_cur_bal                   425903 non-null float64\n",
      "total_rev_hi_lim              425903 non-null float64\n",
      "loan_status                   425903 non-null int64\n",
      "60 months                     425903 non-null uint8\n",
      "B                             425903 non-null uint8\n",
      "C                             425903 non-null uint8\n",
      "D                             425903 non-null uint8\n",
      "E                             425903 non-null uint8\n",
      "F                             425903 non-null uint8\n",
      "G                             425903 non-null uint8\n",
      "MORTGAGE                      425903 non-null uint8\n",
      "NONE                          425903 non-null uint8\n",
      "OTHER                         425903 non-null uint8\n",
      "OWN                           425903 non-null uint8\n",
      "RENT                          425903 non-null uint8\n",
      "Source Verified               425903 non-null uint8\n",
      "Verified                      425903 non-null uint8\n",
      "y                             425903 non-null uint8\n",
      "credit_card                   425903 non-null uint8\n",
      "debt_consolidation            425903 non-null uint8\n",
      "educational                   425903 non-null uint8\n",
      "home_improvement              425903 non-null uint8\n",
      "house                         425903 non-null uint8\n",
      "major_purchase                425903 non-null uint8\n",
      "medical                       425903 non-null uint8\n",
      "moving                        425903 non-null uint8\n",
      "other                         425903 non-null uint8\n",
      "renewable_energy              425903 non-null uint8\n",
      "small_business                425903 non-null uint8\n",
      "vacation                      425903 non-null uint8\n",
      "wedding                       425903 non-null uint8\n",
      "w                             425903 non-null uint8\n",
      "JOINT                         425903 non-null uint8\n",
      "10+ years                     425903 non-null uint8\n",
      "2 years                       425903 non-null uint8\n",
      "3 years                       425903 non-null uint8\n",
      "4 years                       425903 non-null uint8\n",
      "5 years                       425903 non-null uint8\n",
      "6 years                       425903 non-null uint8\n",
      "7 years                       425903 non-null uint8\n",
      "8 years                       425903 non-null uint8\n",
      "9 years                       425903 non-null uint8\n",
      "< 1 year                      425903 non-null uint8\n",
      "n/a                           425903 non-null uint8\n",
      "dtypes: float64(21), int64(4), uint8(41)\n",
      "memory usage: 97.9 MB\n"
     ]
    }
   ],
   "source": [
    "data.info()"
   ]
  },
  {
   "cell_type": "code",
   "execution_count": 96,
   "metadata": {
    "collapsed": true
   },
   "outputs": [],
   "source": [
    "data.drop(\"mths_since_last_delinq\",axis=1,inplace=True)"
   ]
  },
  {
   "cell_type": "code",
   "execution_count": 97,
   "metadata": {},
   "outputs": [
    {
     "name": "stdout",
     "output_type": "stream",
     "text": [
      "<class 'pandas.core.frame.DataFrame'>\n",
      "RangeIndex: 425903 entries, 0 to 425902\n",
      "Data columns (total 65 columns):\n",
      "member_id                     425903 non-null int64\n",
      "loan_amnt                     425903 non-null int64\n",
      "funded_amnt                   425903 non-null int64\n",
      "funded_amnt_inv               425903 non-null float64\n",
      "int_rate                      425903 non-null float64\n",
      "annual_inc                    425903 non-null float64\n",
      "dti                           425903 non-null float64\n",
      "delinq_2yrs                   425903 non-null float64\n",
      "inq_last_6mths                425903 non-null float64\n",
      "open_acc                      425903 non-null float64\n",
      "pub_rec                       425903 non-null float64\n",
      "revol_bal                     425903 non-null float64\n",
      "revol_util                    425903 non-null float64\n",
      "total_acc                     425903 non-null float64\n",
      "total_rec_int                 425903 non-null float64\n",
      "total_rec_late_fee            425903 non-null float64\n",
      "recoveries                    425903 non-null float64\n",
      "collection_recovery_fee       425903 non-null float64\n",
      "collections_12_mths_ex_med    425903 non-null float64\n",
      "acc_now_delinq                425903 non-null float64\n",
      "tot_coll_amt                  425903 non-null float64\n",
      "tot_cur_bal                   425903 non-null float64\n",
      "total_rev_hi_lim              425903 non-null float64\n",
      "loan_status                   425903 non-null int64\n",
      "60 months                     425903 non-null uint8\n",
      "B                             425903 non-null uint8\n",
      "C                             425903 non-null uint8\n",
      "D                             425903 non-null uint8\n",
      "E                             425903 non-null uint8\n",
      "F                             425903 non-null uint8\n",
      "G                             425903 non-null uint8\n",
      "MORTGAGE                      425903 non-null uint8\n",
      "NONE                          425903 non-null uint8\n",
      "OTHER                         425903 non-null uint8\n",
      "OWN                           425903 non-null uint8\n",
      "RENT                          425903 non-null uint8\n",
      "Source Verified               425903 non-null uint8\n",
      "Verified                      425903 non-null uint8\n",
      "y                             425903 non-null uint8\n",
      "credit_card                   425903 non-null uint8\n",
      "debt_consolidation            425903 non-null uint8\n",
      "educational                   425903 non-null uint8\n",
      "home_improvement              425903 non-null uint8\n",
      "house                         425903 non-null uint8\n",
      "major_purchase                425903 non-null uint8\n",
      "medical                       425903 non-null uint8\n",
      "moving                        425903 non-null uint8\n",
      "other                         425903 non-null uint8\n",
      "renewable_energy              425903 non-null uint8\n",
      "small_business                425903 non-null uint8\n",
      "vacation                      425903 non-null uint8\n",
      "wedding                       425903 non-null uint8\n",
      "w                             425903 non-null uint8\n",
      "JOINT                         425903 non-null uint8\n",
      "10+ years                     425903 non-null uint8\n",
      "2 years                       425903 non-null uint8\n",
      "3 years                       425903 non-null uint8\n",
      "4 years                       425903 non-null uint8\n",
      "5 years                       425903 non-null uint8\n",
      "6 years                       425903 non-null uint8\n",
      "7 years                       425903 non-null uint8\n",
      "8 years                       425903 non-null uint8\n",
      "9 years                       425903 non-null uint8\n",
      "< 1 year                      425903 non-null uint8\n",
      "n/a                           425903 non-null uint8\n",
      "dtypes: float64(20), int64(4), uint8(41)\n",
      "memory usage: 94.6 MB\n"
     ]
    }
   ],
   "source": [
    "data.info()"
   ]
  },
  {
   "cell_type": "code",
   "execution_count": 98,
   "metadata": {
    "collapsed": true
   },
   "outputs": [],
   "source": [
    "from sklearn.model_selection import train_test_split\n",
    "\n",
    "X_train, X_test, y_train, y_test = train_test_split(data.drop('loan_status',axis=1), \n",
    "                                                    data['loan_status'], test_size=0.20, \n",
    "                                                    random_state=42)"
   ]
  },
  {
   "cell_type": "code",
   "execution_count": 99,
   "metadata": {},
   "outputs": [
    {
     "data": {
      "text/plain": [
       "LogisticRegression(C=1.0, class_weight=None, dual=False, fit_intercept=True,\n",
       "          intercept_scaling=1, max_iter=100, multi_class='ovr', n_jobs=1,\n",
       "          penalty='l2', random_state=None, solver='liblinear', tol=0.0001,\n",
       "          verbose=0, warm_start=False)"
      ]
     },
     "execution_count": 99,
     "metadata": {},
     "output_type": "execute_result"
    }
   ],
   "source": [
    "from sklearn.linear_model import LogisticRegression\n",
    "\n",
    "# Build the Model.\n",
    "logmodel = LogisticRegression()\n",
    "logmodel.fit(X_train,y_train)"
   ]
  },
  {
   "cell_type": "code",
   "execution_count": 100,
   "metadata": {
    "collapsed": true
   },
   "outputs": [],
   "source": [
    "predicted =  logmodel.predict(X_test)"
   ]
  },
  {
   "cell_type": "code",
   "execution_count": 101,
   "metadata": {
    "collapsed": true
   },
   "outputs": [],
   "source": [
    "from sklearn.metrics import confusion_matrix, classification_report"
   ]
  },
  {
   "cell_type": "code",
   "execution_count": 102,
   "metadata": {},
   "outputs": [
    {
     "name": "stdout",
     "output_type": "stream",
     "text": [
      "[[62138  2921]\n",
      " [12274  7848]]\n"
     ]
    }
   ],
   "source": [
    "print(confusion_matrix(y_test, predicted))"
   ]
  },
  {
   "cell_type": "code",
   "execution_count": 103,
   "metadata": {},
   "outputs": [
    {
     "name": "stdout",
     "output_type": "stream",
     "text": [
      "0.728758473396\n"
     ]
    }
   ],
   "source": [
    "from sklearn.metrics import precision_score\n",
    "\n",
    "print(precision_score(y_test,predicted))"
   ]
  },
  {
   "cell_type": "markdown",
   "metadata": {},
   "source": [
    "## changing model"
   ]
  },
  {
   "cell_type": "code",
   "execution_count": 104,
   "metadata": {},
   "outputs": [
    {
     "data": {
      "text/plain": [
       "RandomForestClassifier(bootstrap=True, class_weight=None, criterion='gini',\n",
       "            max_depth=None, max_features='auto', max_leaf_nodes=None,\n",
       "            min_impurity_decrease=0.0, min_impurity_split=None,\n",
       "            min_samples_leaf=1, min_samples_split=2,\n",
       "            min_weight_fraction_leaf=0.0, n_estimators=10, n_jobs=1,\n",
       "            oob_score=False, random_state=None, verbose=0,\n",
       "            warm_start=False)"
      ]
     },
     "execution_count": 104,
     "metadata": {},
     "output_type": "execute_result"
    }
   ],
   "source": [
    "#Import LinearRegression from sklearn\n",
    "from sklearn.ensemble import RandomForestClassifier\n",
    "\n",
    "#Initializing the model\n",
    "lm = RandomForestClassifier()\n",
    "\n",
    "#Fit the data to the algorithm\n",
    "lm.fit(X_train, y_train)"
   ]
  },
  {
   "cell_type": "code",
   "execution_count": 105,
   "metadata": {
    "collapsed": true
   },
   "outputs": [],
   "source": [
    "#Generating a Scatter Plot to evaluate the correctness of validation set against the predicted data\n",
    "predictions = lm.predict(X_test)"
   ]
  },
  {
   "cell_type": "code",
   "execution_count": 106,
   "metadata": {},
   "outputs": [
    {
     "name": "stdout",
     "output_type": "stream",
     "text": [
      "0.840174326466\n"
     ]
    }
   ],
   "source": [
    "from sklearn.metrics import precision_score\n",
    "\n",
    "print(precision_score(y_test,predictions))"
   ]
  },
  {
   "cell_type": "markdown",
   "metadata": {},
   "source": [
    "## model selection"
   ]
  },
  {
   "cell_type": "code",
   "execution_count": 107,
   "metadata": {
    "collapsed": true
   },
   "outputs": [],
   "source": [
    "imp_list = list(lm.feature_importances_)"
   ]
  },
  {
   "cell_type": "code",
   "execution_count": 108,
   "metadata": {
    "collapsed": true
   },
   "outputs": [],
   "source": [
    "col_lis = list(X_test.columns)"
   ]
  },
  {
   "cell_type": "code",
   "execution_count": 109,
   "metadata": {
    "collapsed": true
   },
   "outputs": [],
   "source": [
    "feature_importances = {i[0]:\"{0:.4f}\".format(i[1]) for i in list(zip(col_lis,imp_list))}"
   ]
  },
  {
   "cell_type": "code",
   "execution_count": 110,
   "metadata": {},
   "outputs": [
    {
     "data": {
      "text/plain": [
       "{'10+ years': '0.0056',\n",
       " '2 years': '0.0035',\n",
       " '3 years': '0.0033',\n",
       " '4 years': '0.0027',\n",
       " '5 years': '0.0030',\n",
       " '6 years': '0.0027',\n",
       " '60 months': '0.0112',\n",
       " '7 years': '0.0029',\n",
       " '8 years': '0.0026',\n",
       " '9 years': '0.0023',\n",
       " '< 1 year': '0.0033',\n",
       " 'B': '0.0049',\n",
       " 'C': '0.0046',\n",
       " 'D': '0.0030',\n",
       " 'E': '0.0023',\n",
       " 'F': '0.0013',\n",
       " 'G': '0.0004',\n",
       " 'JOINT': '0.0000',\n",
       " 'MORTGAGE': '0.0053',\n",
       " 'NONE': '0.0000',\n",
       " 'OTHER': '0.0000',\n",
       " 'OWN': '0.0031',\n",
       " 'RENT': '0.0051',\n",
       " 'Source Verified': '0.0055',\n",
       " 'Verified': '0.0049',\n",
       " 'acc_now_delinq': '0.0004',\n",
       " 'annual_inc': '0.0258',\n",
       " 'collection_recovery_fee': '0.0102',\n",
       " 'collections_12_mths_ex_med': '0.0010',\n",
       " 'credit_card': '0.0043',\n",
       " 'debt_consolidation': '0.0051',\n",
       " 'delinq_2yrs': '0.0069',\n",
       " 'dti': '0.0424',\n",
       " 'educational': '0.0000',\n",
       " 'funded_amnt': '0.0288',\n",
       " 'funded_amnt_inv': '0.0333',\n",
       " 'home_improvement': '0.0024',\n",
       " 'house': '0.0006',\n",
       " 'inq_last_6mths': '0.0125',\n",
       " 'int_rate': '0.0435',\n",
       " 'loan_amnt': '0.0289',\n",
       " 'major_purchase': '0.0012',\n",
       " 'medical': '0.0007',\n",
       " 'member_id': '0.3034',\n",
       " 'moving': '0.0005',\n",
       " 'n/a': '0.0021',\n",
       " 'open_acc': '0.0261',\n",
       " 'other': '0.0021',\n",
       " 'pub_rec': '0.0054',\n",
       " 'recoveries': '0.0203',\n",
       " 'renewable_energy': '0.0001',\n",
       " 'revol_bal': '0.0378',\n",
       " 'revol_util': '0.0389',\n",
       " 'small_business': '0.0009',\n",
       " 'tot_coll_amt': '0.0257',\n",
       " 'tot_cur_bal': '0.0249',\n",
       " 'total_acc': '0.0314',\n",
       " 'total_rec_int': '0.0889',\n",
       " 'total_rec_late_fee': '0.0020',\n",
       " 'total_rev_hi_lim': '0.0254',\n",
       " 'vacation': '0.0005',\n",
       " 'w': '0.0307',\n",
       " 'wedding': '0.0011',\n",
       " 'y': '0.0000'}"
      ]
     },
     "execution_count": 110,
     "metadata": {},
     "output_type": "execute_result"
    }
   ],
   "source": [
    "feature_importances"
   ]
  },
  {
   "cell_type": "markdown",
   "metadata": {},
   "source": [
    "## model selection"
   ]
  },
  {
   "cell_type": "code",
   "execution_count": 111,
   "metadata": {},
   "outputs": [
    {
     "data": {
      "text/plain": [
       "OneVsOneClassifier(estimator=SGDClassifier(alpha=0.0001, average=False, class_weight=None, epsilon=0.1,\n",
       "       eta0=0.0, fit_intercept=True, l1_ratio=0.15,\n",
       "       learning_rate='optimal', loss='hinge', max_iter=5, n_iter=None,\n",
       "       n_jobs=1, penalty='l2', power_t=0.5, random_state=42, shuffle=True,\n",
       "       tol=None, verbose=0, warm_start=False),\n",
       "          n_jobs=1)"
      ]
     },
     "execution_count": 111,
     "metadata": {},
     "output_type": "execute_result"
    }
   ],
   "source": [
    "from sklearn.linear_model import SGDClassifier\n",
    "from sklearn.multiclass import OneVsOneClassifier\n",
    "ovo_clf = OneVsOneClassifier(SGDClassifier(max_iter=5, random_state=42))\n",
    "ovo_clf.fit(X_train, y_train)"
   ]
  },
  {
   "cell_type": "code",
   "execution_count": 112,
   "metadata": {
    "collapsed": true
   },
   "outputs": [],
   "source": [
    "prediction = ovo_clf.predict(X_test)"
   ]
  },
  {
   "cell_type": "code",
   "execution_count": 113,
   "metadata": {},
   "outputs": [
    {
     "data": {
      "text/plain": [
       "0.82161514891818599"
      ]
     },
     "execution_count": 113,
     "metadata": {},
     "output_type": "execute_result"
    }
   ],
   "source": [
    "from sklearn.metrics import accuracy_score\n",
    "accuracy_score(y_test,prediction)"
   ]
  },
  {
   "cell_type": "markdown",
   "metadata": {},
   "source": [
    "## tuning and applying random forest"
   ]
  },
  {
   "cell_type": "code",
   "execution_count": 114,
   "metadata": {},
   "outputs": [
    {
     "data": {
      "text/plain": [
       "RandomForestClassifier(bootstrap=True, class_weight=None, criterion='gini',\n",
       "            max_depth=None, max_features='auto', max_leaf_nodes=None,\n",
       "            min_impurity_decrease=0.0, min_impurity_split=None,\n",
       "            min_samples_leaf=1, min_samples_split=2,\n",
       "            min_weight_fraction_leaf=0.0, n_estimators=10, n_jobs=1,\n",
       "            oob_score=False, random_state=42, verbose=0, warm_start=False)"
      ]
     },
     "execution_count": 114,
     "metadata": {},
     "output_type": "execute_result"
    }
   ],
   "source": [
    "from sklearn.ensemble import RandomForestClassifier\n",
    "flm = RandomForestClassifier(random_state=42)\n",
    "flm.fit(X_train, y_train)"
   ]
  },
  {
   "cell_type": "code",
   "execution_count": 115,
   "metadata": {
    "collapsed": true
   },
   "outputs": [],
   "source": [
    "from sklearn.model_selection import cross_val_predict\n",
    "\n",
    "y_train_pred = cross_val_predict(flm, X_train, y_train, cv=3)"
   ]
  },
  {
   "cell_type": "code",
   "execution_count": 116,
   "metadata": {},
   "outputs": [
    {
     "data": {
      "text/plain": [
       "0.83909027708809214"
      ]
     },
     "execution_count": 116,
     "metadata": {},
     "output_type": "execute_result"
    }
   ],
   "source": [
    "from sklearn.metrics import precision_score\n",
    "\n",
    "precision_score(y_train, y_train_pred) "
   ]
  },
  {
   "cell_type": "markdown",
   "metadata": {
    "collapsed": true
   },
   "source": [
    "## model selection"
   ]
  },
  {
   "cell_type": "code",
   "execution_count": 126,
   "metadata": {
    "collapsed": true
   },
   "outputs": [],
   "source": [
    "from sklearn.grid_search import GridSearchCV #Importing Grid Search CV"
   ]
  },
  {
   "cell_type": "code",
   "execution_count": 127,
   "metadata": {
    "collapsed": true
   },
   "outputs": [],
   "source": [
    "param_grid = [\n",
    "    # try 12 (3×4) combinations of hyperparameters\n",
    "    {'n_estimators': [5, 10,15], 'max_features': [3, 5, 6, 9]},\n",
    "    # then try 6 (2×3) combinations with bootstrap set as False\n",
    "    {'bootstrap': [False], 'n_estimators': [3, 10], 'max_features': [2, 3, 4]},\n",
    "  ]"
   ]
  },
  {
   "cell_type": "code",
   "execution_count": 128,
   "metadata": {
    "collapsed": true
   },
   "outputs": [],
   "source": [
    "grid_search = GridSearchCV(lm, param_grid, cv=5, scoring='neg_mean_squared_error')"
   ]
  },
  {
   "cell_type": "code",
   "execution_count": 129,
   "metadata": {},
   "outputs": [
    {
     "data": {
      "text/plain": [
       "GridSearchCV(cv=5, error_score='raise',\n",
       "       estimator=RandomForestClassifier(bootstrap=True, class_weight=None, criterion='gini',\n",
       "            max_depth=None, max_features='auto', max_leaf_nodes=None,\n",
       "            min_impurity_decrease=0.0, min_impurity_split=None,\n",
       "            min_samples_leaf=1, min_samples_split=2,\n",
       "            min_weight_fraction_leaf=0.0, n_estimators=10, n_jobs=1,\n",
       "            oob_score=False, random_state=None, verbose=0,\n",
       "            warm_start=False),\n",
       "       fit_params={}, iid=True, n_jobs=1,\n",
       "       param_grid=[{'n_estimators': [5, 10, 15], 'max_features': [3, 5, 6, 9]}, {'bootstrap': [False], 'n_estimators': [3, 10], 'max_features': [2, 3, 4]}],\n",
       "       pre_dispatch='2*n_jobs', refit=True,\n",
       "       scoring='neg_mean_squared_error', verbose=0)"
      ]
     },
     "execution_count": 129,
     "metadata": {},
     "output_type": "execute_result"
    }
   ],
   "source": [
    "grid_search.fit(X_train, y_train)"
   ]
  },
  {
   "cell_type": "code",
   "execution_count": 130,
   "metadata": {},
   "outputs": [
    {
     "data": {
      "text/plain": [
       "{'max_features': 9, 'n_estimators': 15}"
      ]
     },
     "execution_count": 130,
     "metadata": {},
     "output_type": "execute_result"
    }
   ],
   "source": [
    "grid_search.best_params_"
   ]
  },
  {
   "cell_type": "code",
   "execution_count": 131,
   "metadata": {},
   "outputs": [
    {
     "data": {
      "text/plain": [
       "RandomForestClassifier(bootstrap=True, class_weight=None, criterion='gini',\n",
       "            max_depth=None, max_features=9, max_leaf_nodes=None,\n",
       "            min_impurity_decrease=0.0, min_impurity_split=None,\n",
       "            min_samples_leaf=1, min_samples_split=2,\n",
       "            min_weight_fraction_leaf=0.0, n_estimators=15, n_jobs=1,\n",
       "            oob_score=False, random_state=None, verbose=0,\n",
       "            warm_start=False)"
      ]
     },
     "execution_count": 131,
     "metadata": {},
     "output_type": "execute_result"
    }
   ],
   "source": [
    "grid_search.best_estimator_"
   ]
  },
  {
   "cell_type": "code",
   "execution_count": 132,
   "metadata": {
    "collapsed": true
   },
   "outputs": [],
   "source": [
    "from sklearn.metrics import precision_score"
   ]
  },
  {
   "cell_type": "code",
   "execution_count": 134,
   "metadata": {},
   "outputs": [
    {
     "name": "stdout",
     "output_type": "stream",
     "text": [
      "0.840174326466\n"
     ]
    }
   ],
   "source": [
    "print(precision_score(y_test,predictions))"
   ]
  },
  {
   "cell_type": "code",
   "execution_count": 135,
   "metadata": {},
   "outputs": [
    {
     "name": "stdout",
     "output_type": "stream",
     "text": [
      "[ 0.85219229  0.85947241  0.85714789]\n"
     ]
    }
   ],
   "source": [
    "from sklearn.cross_validation import cross_val_score\n",
    "\n",
    "print(cross_val_score(lm, X_test, y_test,cv=3))"
   ]
  },
  {
   "cell_type": "markdown",
   "metadata": {},
   "source": [
    "## model selection"
   ]
  },
  {
   "cell_type": "code",
   "execution_count": null,
   "metadata": {
    "collapsed": true
   },
   "outputs": [],
   "source": []
  },
  {
   "cell_type": "code",
   "execution_count": null,
   "metadata": {
    "collapsed": true
   },
   "outputs": [],
   "source": []
  },
  {
   "cell_type": "code",
   "execution_count": null,
   "metadata": {
    "collapsed": true
   },
   "outputs": [],
   "source": []
  },
  {
   "cell_type": "code",
   "execution_count": null,
   "metadata": {
    "collapsed": true
   },
   "outputs": [],
   "source": []
  },
  {
   "cell_type": "code",
   "execution_count": null,
   "metadata": {
    "collapsed": true
   },
   "outputs": [],
   "source": []
  },
  {
   "cell_type": "code",
   "execution_count": null,
   "metadata": {},
   "outputs": [],
   "source": []
  },
  {
   "cell_type": "code",
   "execution_count": null,
   "metadata": {
    "collapsed": true
   },
   "outputs": [],
   "source": []
  },
  {
   "cell_type": "code",
   "execution_count": null,
   "metadata": {
    "collapsed": true
   },
   "outputs": [],
   "source": []
  },
  {
   "cell_type": "code",
   "execution_count": null,
   "metadata": {
    "collapsed": true
   },
   "outputs": [],
   "source": []
  },
  {
   "cell_type": "code",
   "execution_count": null,
   "metadata": {
    "collapsed": true
   },
   "outputs": [],
   "source": []
  },
  {
   "cell_type": "code",
   "execution_count": null,
   "metadata": {
    "collapsed": true
   },
   "outputs": [],
   "source": []
  }
 ],
 "metadata": {
  "kernelspec": {
   "display_name": "Python 3",
   "language": "python",
   "name": "python3"
  },
  "language_info": {
   "codemirror_mode": {
    "name": "ipython",
    "version": 3
   },
   "file_extension": ".py",
   "mimetype": "text/x-python",
   "name": "python",
   "nbconvert_exporter": "python",
   "pygments_lexer": "ipython3",
   "version": "3.6.3"
  }
 },
 "nbformat": 4,
 "nbformat_minor": 2
}
