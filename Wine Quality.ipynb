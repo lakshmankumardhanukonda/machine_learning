{
 "cells": [
  {
   "cell_type": "markdown",
   "metadata": {},
   "source": [
    "# WINE QUALITY"
   ]
  },
  {
   "cell_type": "code",
   "execution_count": 1,
   "metadata": {
    "collapsed": true
   },
   "outputs": [],
   "source": [
    "import pandas as pd\n",
    "import numpy as np\n",
    "import seaborn as sns\n",
    "import matplotlib.pyplot as plt\n",
    "import missingno as ms\n",
    "%matplotlib inline"
   ]
  },
  {
   "cell_type": "code",
   "execution_count": 2,
   "metadata": {
    "collapsed": true
   },
   "outputs": [],
   "source": [
    "data=pd.read_csv(\"data.csv\")\n",
    "data1=data.copy()"
   ]
  },
  {
   "cell_type": "code",
   "execution_count": 3,
   "metadata": {},
   "outputs": [
    {
     "data": {
      "text/html": [
       "<div>\n",
       "<style>\n",
       "    .dataframe thead tr:only-child th {\n",
       "        text-align: right;\n",
       "    }\n",
       "\n",
       "    .dataframe thead th {\n",
       "        text-align: left;\n",
       "    }\n",
       "\n",
       "    .dataframe tbody tr th {\n",
       "        vertical-align: top;\n",
       "    }\n",
       "</style>\n",
       "<table border=\"1\" class=\"dataframe\">\n",
       "  <thead>\n",
       "    <tr style=\"text-align: right;\">\n",
       "      <th></th>\n",
       "      <th>fixed.acidity</th>\n",
       "      <th>volatile.acidity</th>\n",
       "      <th>citric.acid</th>\n",
       "      <th>residual.sugar</th>\n",
       "      <th>chlorides</th>\n",
       "      <th>free.sulfur.dioxide</th>\n",
       "      <th>total.sulfur.dioxide</th>\n",
       "      <th>density</th>\n",
       "      <th>pH</th>\n",
       "      <th>sulphates</th>\n",
       "      <th>alcohol</th>\n",
       "      <th>quality</th>\n",
       "      <th>id</th>\n",
       "    </tr>\n",
       "  </thead>\n",
       "  <tbody>\n",
       "    <tr>\n",
       "      <th>0</th>\n",
       "      <td>6.7</td>\n",
       "      <td>0.15</td>\n",
       "      <td>0.38</td>\n",
       "      <td>1.7</td>\n",
       "      <td>0.037</td>\n",
       "      <td>20.0</td>\n",
       "      <td>84.0</td>\n",
       "      <td>0.99046</td>\n",
       "      <td>3.09</td>\n",
       "      <td>0.53</td>\n",
       "      <td>11.4</td>\n",
       "      <td>6</td>\n",
       "      <td>981</td>\n",
       "    </tr>\n",
       "    <tr>\n",
       "      <th>1</th>\n",
       "      <td>6.7</td>\n",
       "      <td>0.44</td>\n",
       "      <td>0.31</td>\n",
       "      <td>1.9</td>\n",
       "      <td>0.030</td>\n",
       "      <td>41.0</td>\n",
       "      <td>104.0</td>\n",
       "      <td>0.99000</td>\n",
       "      <td>3.29</td>\n",
       "      <td>0.62</td>\n",
       "      <td>12.6</td>\n",
       "      <td>7</td>\n",
       "      <td>982</td>\n",
       "    </tr>\n",
       "    <tr>\n",
       "      <th>2</th>\n",
       "      <td>6.1</td>\n",
       "      <td>0.17</td>\n",
       "      <td>0.21</td>\n",
       "      <td>1.9</td>\n",
       "      <td>0.090</td>\n",
       "      <td>44.0</td>\n",
       "      <td>130.0</td>\n",
       "      <td>0.99255</td>\n",
       "      <td>3.07</td>\n",
       "      <td>0.41</td>\n",
       "      <td>9.7</td>\n",
       "      <td>5</td>\n",
       "      <td>983</td>\n",
       "    </tr>\n",
       "    <tr>\n",
       "      <th>3</th>\n",
       "      <td>6.6</td>\n",
       "      <td>0.39</td>\n",
       "      <td>0.22</td>\n",
       "      <td>4.0</td>\n",
       "      <td>0.038</td>\n",
       "      <td>17.0</td>\n",
       "      <td>98.0</td>\n",
       "      <td>0.99018</td>\n",
       "      <td>3.25</td>\n",
       "      <td>0.53</td>\n",
       "      <td>13.0</td>\n",
       "      <td>7</td>\n",
       "      <td>984</td>\n",
       "    </tr>\n",
       "    <tr>\n",
       "      <th>4</th>\n",
       "      <td>6.8</td>\n",
       "      <td>0.32</td>\n",
       "      <td>0.34</td>\n",
       "      <td>6.0</td>\n",
       "      <td>0.050</td>\n",
       "      <td>5.0</td>\n",
       "      <td>129.0</td>\n",
       "      <td>0.99530</td>\n",
       "      <td>3.19</td>\n",
       "      <td>0.40</td>\n",
       "      <td>9.1</td>\n",
       "      <td>5</td>\n",
       "      <td>985</td>\n",
       "    </tr>\n",
       "  </tbody>\n",
       "</table>\n",
       "</div>"
      ],
      "text/plain": [
       "   fixed.acidity  volatile.acidity  citric.acid  residual.sugar  chlorides  \\\n",
       "0            6.7              0.15         0.38             1.7      0.037   \n",
       "1            6.7              0.44         0.31             1.9      0.030   \n",
       "2            6.1              0.17         0.21             1.9      0.090   \n",
       "3            6.6              0.39         0.22             4.0      0.038   \n",
       "4            6.8              0.32         0.34             6.0      0.050   \n",
       "\n",
       "   free.sulfur.dioxide  total.sulfur.dioxide  density    pH  sulphates  \\\n",
       "0                 20.0                  84.0  0.99046  3.09       0.53   \n",
       "1                 41.0                 104.0  0.99000  3.29       0.62   \n",
       "2                 44.0                 130.0  0.99255  3.07       0.41   \n",
       "3                 17.0                  98.0  0.99018  3.25       0.53   \n",
       "4                  5.0                 129.0  0.99530  3.19       0.40   \n",
       "\n",
       "   alcohol  quality   id  \n",
       "0     11.4        6  981  \n",
       "1     12.6        7  982  \n",
       "2      9.7        5  983  \n",
       "3     13.0        7  984  \n",
       "4      9.1        5  985  "
      ]
     },
     "execution_count": 3,
     "metadata": {},
     "output_type": "execute_result"
    }
   ],
   "source": [
    "data.head()"
   ]
  },
  {
   "cell_type": "code",
   "execution_count": 4,
   "metadata": {},
   "outputs": [
    {
     "data": {
      "text/html": [
       "<div>\n",
       "<style>\n",
       "    .dataframe thead tr:only-child th {\n",
       "        text-align: right;\n",
       "    }\n",
       "\n",
       "    .dataframe thead th {\n",
       "        text-align: left;\n",
       "    }\n",
       "\n",
       "    .dataframe tbody tr th {\n",
       "        vertical-align: top;\n",
       "    }\n",
       "</style>\n",
       "<table border=\"1\" class=\"dataframe\">\n",
       "  <thead>\n",
       "    <tr style=\"text-align: right;\">\n",
       "      <th></th>\n",
       "      <th>fixed.acidity</th>\n",
       "      <th>volatile.acidity</th>\n",
       "      <th>citric.acid</th>\n",
       "      <th>residual.sugar</th>\n",
       "      <th>chlorides</th>\n",
       "      <th>free.sulfur.dioxide</th>\n",
       "      <th>total.sulfur.dioxide</th>\n",
       "      <th>density</th>\n",
       "      <th>pH</th>\n",
       "      <th>sulphates</th>\n",
       "      <th>alcohol</th>\n",
       "      <th>quality</th>\n",
       "      <th>id</th>\n",
       "    </tr>\n",
       "  </thead>\n",
       "  <tbody>\n",
       "    <tr>\n",
       "      <th>3913</th>\n",
       "      <td>6.5</td>\n",
       "      <td>0.28</td>\n",
       "      <td>0.38</td>\n",
       "      <td>7.80</td>\n",
       "      <td>0.031</td>\n",
       "      <td>54.0</td>\n",
       "      <td>216.0</td>\n",
       "      <td>0.99154</td>\n",
       "      <td>3.03</td>\n",
       "      <td>0.42</td>\n",
       "      <td>13.1</td>\n",
       "      <td>6</td>\n",
       "      <td>4894</td>\n",
       "    </tr>\n",
       "    <tr>\n",
       "      <th>3914</th>\n",
       "      <td>6.6</td>\n",
       "      <td>0.21</td>\n",
       "      <td>0.29</td>\n",
       "      <td>5.35</td>\n",
       "      <td>0.029</td>\n",
       "      <td>43.0</td>\n",
       "      <td>106.0</td>\n",
       "      <td>0.99112</td>\n",
       "      <td>2.93</td>\n",
       "      <td>0.43</td>\n",
       "      <td>11.5</td>\n",
       "      <td>7</td>\n",
       "      <td>4895</td>\n",
       "    </tr>\n",
       "    <tr>\n",
       "      <th>3915</th>\n",
       "      <td>8.6</td>\n",
       "      <td>0.18</td>\n",
       "      <td>0.28</td>\n",
       "      <td>0.80</td>\n",
       "      <td>0.032</td>\n",
       "      <td>25.0</td>\n",
       "      <td>78.0</td>\n",
       "      <td>0.99104</td>\n",
       "      <td>2.99</td>\n",
       "      <td>0.38</td>\n",
       "      <td>11.1</td>\n",
       "      <td>5</td>\n",
       "      <td>4896</td>\n",
       "    </tr>\n",
       "    <tr>\n",
       "      <th>3916</th>\n",
       "      <td>6.4</td>\n",
       "      <td>0.22</td>\n",
       "      <td>0.38</td>\n",
       "      <td>9.10</td>\n",
       "      <td>0.044</td>\n",
       "      <td>35.0</td>\n",
       "      <td>127.0</td>\n",
       "      <td>0.99326</td>\n",
       "      <td>2.97</td>\n",
       "      <td>0.30</td>\n",
       "      <td>11.0</td>\n",
       "      <td>7</td>\n",
       "      <td>4897</td>\n",
       "    </tr>\n",
       "    <tr>\n",
       "      <th>3917</th>\n",
       "      <td>7.2</td>\n",
       "      <td>0.46</td>\n",
       "      <td>0.65</td>\n",
       "      <td>10.40</td>\n",
       "      <td>0.050</td>\n",
       "      <td>76.0</td>\n",
       "      <td>192.0</td>\n",
       "      <td>0.99760</td>\n",
       "      <td>3.16</td>\n",
       "      <td>0.42</td>\n",
       "      <td>8.7</td>\n",
       "      <td>5</td>\n",
       "      <td>4898</td>\n",
       "    </tr>\n",
       "  </tbody>\n",
       "</table>\n",
       "</div>"
      ],
      "text/plain": [
       "      fixed.acidity  volatile.acidity  citric.acid  residual.sugar  chlorides  \\\n",
       "3913            6.5              0.28         0.38            7.80      0.031   \n",
       "3914            6.6              0.21         0.29            5.35      0.029   \n",
       "3915            8.6              0.18         0.28            0.80      0.032   \n",
       "3916            6.4              0.22         0.38            9.10      0.044   \n",
       "3917            7.2              0.46         0.65           10.40      0.050   \n",
       "\n",
       "      free.sulfur.dioxide  total.sulfur.dioxide  density    pH  sulphates  \\\n",
       "3913                 54.0                 216.0  0.99154  3.03       0.42   \n",
       "3914                 43.0                 106.0  0.99112  2.93       0.43   \n",
       "3915                 25.0                  78.0  0.99104  2.99       0.38   \n",
       "3916                 35.0                 127.0  0.99326  2.97       0.30   \n",
       "3917                 76.0                 192.0  0.99760  3.16       0.42   \n",
       "\n",
       "      alcohol  quality    id  \n",
       "3913     13.1        6  4894  \n",
       "3914     11.5        7  4895  \n",
       "3915     11.1        5  4896  \n",
       "3916     11.0        7  4897  \n",
       "3917      8.7        5  4898  "
      ]
     },
     "execution_count": 4,
     "metadata": {},
     "output_type": "execute_result"
    }
   ],
   "source": [
    "data.tail()"
   ]
  },
  {
   "cell_type": "code",
   "execution_count": 5,
   "metadata": {},
   "outputs": [
    {
     "name": "stdout",
     "output_type": "stream",
     "text": [
      "<class 'pandas.core.frame.DataFrame'>\n",
      "RangeIndex: 3918 entries, 0 to 3917\n",
      "Data columns (total 13 columns):\n",
      "fixed.acidity           3918 non-null float64\n",
      "volatile.acidity        3918 non-null float64\n",
      "citric.acid             3918 non-null float64\n",
      "residual.sugar          3918 non-null float64\n",
      "chlorides               3918 non-null float64\n",
      "free.sulfur.dioxide     3918 non-null float64\n",
      "total.sulfur.dioxide    3918 non-null float64\n",
      "density                 3918 non-null float64\n",
      "pH                      3918 non-null float64\n",
      "sulphates               3918 non-null float64\n",
      "alcohol                 3918 non-null float64\n",
      "quality                 3918 non-null int64\n",
      "id                      3918 non-null int64\n",
      "dtypes: float64(11), int64(2)\n",
      "memory usage: 398.0 KB\n"
     ]
    }
   ],
   "source": [
    "data.info()"
   ]
  },
  {
   "cell_type": "code",
   "execution_count": 6,
   "metadata": {},
   "outputs": [
    {
     "data": {
      "text/html": [
       "<div>\n",
       "<style>\n",
       "    .dataframe thead tr:only-child th {\n",
       "        text-align: right;\n",
       "    }\n",
       "\n",
       "    .dataframe thead th {\n",
       "        text-align: left;\n",
       "    }\n",
       "\n",
       "    .dataframe tbody tr th {\n",
       "        vertical-align: top;\n",
       "    }\n",
       "</style>\n",
       "<table border=\"1\" class=\"dataframe\">\n",
       "  <thead>\n",
       "    <tr style=\"text-align: right;\">\n",
       "      <th></th>\n",
       "      <th>fixed.acidity</th>\n",
       "      <th>volatile.acidity</th>\n",
       "      <th>citric.acid</th>\n",
       "      <th>residual.sugar</th>\n",
       "      <th>chlorides</th>\n",
       "      <th>free.sulfur.dioxide</th>\n",
       "      <th>total.sulfur.dioxide</th>\n",
       "      <th>density</th>\n",
       "      <th>pH</th>\n",
       "      <th>sulphates</th>\n",
       "      <th>alcohol</th>\n",
       "      <th>quality</th>\n",
       "      <th>id</th>\n",
       "    </tr>\n",
       "  </thead>\n",
       "  <tbody>\n",
       "    <tr>\n",
       "      <th>count</th>\n",
       "      <td>3918.000000</td>\n",
       "      <td>3918.000000</td>\n",
       "      <td>3918.000000</td>\n",
       "      <td>3918.000000</td>\n",
       "      <td>3918.000000</td>\n",
       "      <td>3918.000000</td>\n",
       "      <td>3918.000000</td>\n",
       "      <td>3918.000000</td>\n",
       "      <td>3918.000000</td>\n",
       "      <td>3918.000000</td>\n",
       "      <td>3918.000000</td>\n",
       "      <td>3918.000000</td>\n",
       "      <td>3918.000000</td>\n",
       "    </tr>\n",
       "    <tr>\n",
       "      <th>mean</th>\n",
       "      <td>6.854620</td>\n",
       "      <td>0.278027</td>\n",
       "      <td>0.333201</td>\n",
       "      <td>6.405819</td>\n",
       "      <td>0.045566</td>\n",
       "      <td>35.326187</td>\n",
       "      <td>138.395227</td>\n",
       "      <td>0.994026</td>\n",
       "      <td>3.187989</td>\n",
       "      <td>0.489704</td>\n",
       "      <td>10.518765</td>\n",
       "      <td>5.877489</td>\n",
       "      <td>2939.500000</td>\n",
       "    </tr>\n",
       "    <tr>\n",
       "      <th>std</th>\n",
       "      <td>0.841879</td>\n",
       "      <td>0.100459</td>\n",
       "      <td>0.121375</td>\n",
       "      <td>5.107972</td>\n",
       "      <td>0.021138</td>\n",
       "      <td>17.158043</td>\n",
       "      <td>42.996820</td>\n",
       "      <td>0.003025</td>\n",
       "      <td>0.150022</td>\n",
       "      <td>0.114186</td>\n",
       "      <td>1.237195</td>\n",
       "      <td>0.890364</td>\n",
       "      <td>1131.173506</td>\n",
       "    </tr>\n",
       "    <tr>\n",
       "      <th>min</th>\n",
       "      <td>3.800000</td>\n",
       "      <td>0.080000</td>\n",
       "      <td>0.000000</td>\n",
       "      <td>0.600000</td>\n",
       "      <td>0.009000</td>\n",
       "      <td>3.000000</td>\n",
       "      <td>9.000000</td>\n",
       "      <td>0.987110</td>\n",
       "      <td>2.740000</td>\n",
       "      <td>0.220000</td>\n",
       "      <td>8.000000</td>\n",
       "      <td>3.000000</td>\n",
       "      <td>981.000000</td>\n",
       "    </tr>\n",
       "    <tr>\n",
       "      <th>25%</th>\n",
       "      <td>6.300000</td>\n",
       "      <td>0.210000</td>\n",
       "      <td>0.270000</td>\n",
       "      <td>1.700000</td>\n",
       "      <td>0.036000</td>\n",
       "      <td>23.000000</td>\n",
       "      <td>107.250000</td>\n",
       "      <td>0.991700</td>\n",
       "      <td>3.090000</td>\n",
       "      <td>0.410000</td>\n",
       "      <td>9.500000</td>\n",
       "      <td>5.000000</td>\n",
       "      <td>1960.250000</td>\n",
       "    </tr>\n",
       "    <tr>\n",
       "      <th>50%</th>\n",
       "      <td>6.800000</td>\n",
       "      <td>0.260000</td>\n",
       "      <td>0.310000</td>\n",
       "      <td>5.200000</td>\n",
       "      <td>0.043000</td>\n",
       "      <td>34.000000</td>\n",
       "      <td>134.000000</td>\n",
       "      <td>0.993730</td>\n",
       "      <td>3.180000</td>\n",
       "      <td>0.470000</td>\n",
       "      <td>10.400000</td>\n",
       "      <td>6.000000</td>\n",
       "      <td>2939.500000</td>\n",
       "    </tr>\n",
       "    <tr>\n",
       "      <th>75%</th>\n",
       "      <td>7.300000</td>\n",
       "      <td>0.320000</td>\n",
       "      <td>0.380000</td>\n",
       "      <td>9.900000</td>\n",
       "      <td>0.050000</td>\n",
       "      <td>46.000000</td>\n",
       "      <td>168.000000</td>\n",
       "      <td>0.996160</td>\n",
       "      <td>3.280000</td>\n",
       "      <td>0.550000</td>\n",
       "      <td>11.400000</td>\n",
       "      <td>6.000000</td>\n",
       "      <td>3918.750000</td>\n",
       "    </tr>\n",
       "    <tr>\n",
       "      <th>max</th>\n",
       "      <td>14.200000</td>\n",
       "      <td>1.100000</td>\n",
       "      <td>1.660000</td>\n",
       "      <td>65.800000</td>\n",
       "      <td>0.346000</td>\n",
       "      <td>289.000000</td>\n",
       "      <td>440.000000</td>\n",
       "      <td>1.038980</td>\n",
       "      <td>3.800000</td>\n",
       "      <td>1.080000</td>\n",
       "      <td>14.200000</td>\n",
       "      <td>9.000000</td>\n",
       "      <td>4898.000000</td>\n",
       "    </tr>\n",
       "  </tbody>\n",
       "</table>\n",
       "</div>"
      ],
      "text/plain": [
       "       fixed.acidity  volatile.acidity  citric.acid  residual.sugar  \\\n",
       "count    3918.000000       3918.000000  3918.000000     3918.000000   \n",
       "mean        6.854620          0.278027     0.333201        6.405819   \n",
       "std         0.841879          0.100459     0.121375        5.107972   \n",
       "min         3.800000          0.080000     0.000000        0.600000   \n",
       "25%         6.300000          0.210000     0.270000        1.700000   \n",
       "50%         6.800000          0.260000     0.310000        5.200000   \n",
       "75%         7.300000          0.320000     0.380000        9.900000   \n",
       "max        14.200000          1.100000     1.660000       65.800000   \n",
       "\n",
       "         chlorides  free.sulfur.dioxide  total.sulfur.dioxide      density  \\\n",
       "count  3918.000000          3918.000000           3918.000000  3918.000000   \n",
       "mean      0.045566            35.326187            138.395227     0.994026   \n",
       "std       0.021138            17.158043             42.996820     0.003025   \n",
       "min       0.009000             3.000000              9.000000     0.987110   \n",
       "25%       0.036000            23.000000            107.250000     0.991700   \n",
       "50%       0.043000            34.000000            134.000000     0.993730   \n",
       "75%       0.050000            46.000000            168.000000     0.996160   \n",
       "max       0.346000           289.000000            440.000000     1.038980   \n",
       "\n",
       "                pH    sulphates      alcohol      quality           id  \n",
       "count  3918.000000  3918.000000  3918.000000  3918.000000  3918.000000  \n",
       "mean      3.187989     0.489704    10.518765     5.877489  2939.500000  \n",
       "std       0.150022     0.114186     1.237195     0.890364  1131.173506  \n",
       "min       2.740000     0.220000     8.000000     3.000000   981.000000  \n",
       "25%       3.090000     0.410000     9.500000     5.000000  1960.250000  \n",
       "50%       3.180000     0.470000    10.400000     6.000000  2939.500000  \n",
       "75%       3.280000     0.550000    11.400000     6.000000  3918.750000  \n",
       "max       3.800000     1.080000    14.200000     9.000000  4898.000000  "
      ]
     },
     "execution_count": 6,
     "metadata": {},
     "output_type": "execute_result"
    }
   ],
   "source": [
    "data.describe()"
   ]
  },
  {
   "cell_type": "code",
   "execution_count": 7,
   "metadata": {},
   "outputs": [
    {
     "data": {
      "text/plain": [
       "<matplotlib.axes._subplots.AxesSubplot at 0x17601366cc0>"
      ]
     },
     "execution_count": 7,
     "metadata": {},
     "output_type": "execute_result"
    },
    {
     "data": {
      "image/png": "[encoded data removed]",
      "text/plain": [
       "<matplotlib.figure.Figure at 0x1767d43c470>"
      ]
     },
     "metadata": {},
     "output_type": "display_data"
    }
   ],
   "source": [
    "ms.matrix(data)"
   ]
  },
  {
   "cell_type": "code",
   "execution_count": 8,
   "metadata": {},
   "outputs": [
    {
     "data": {
      "text/html": [
       "<div>\n",
       "<style>\n",
       "    .dataframe thead tr:only-child th {\n",
       "        text-align: right;\n",
       "    }\n",
       "\n",
       "    .dataframe thead th {\n",
       "        text-align: left;\n",
       "    }\n",
       "\n",
       "    .dataframe tbody tr th {\n",
       "        vertical-align: top;\n",
       "    }\n",
       "</style>\n",
       "<table border=\"1\" class=\"dataframe\">\n",
       "  <thead>\n",
       "    <tr style=\"text-align: right;\">\n",
       "      <th></th>\n",
       "      <th>fixed.acidity</th>\n",
       "      <th>volatile.acidity</th>\n",
       "      <th>citric.acid</th>\n",
       "      <th>residual.sugar</th>\n",
       "      <th>chlorides</th>\n",
       "      <th>free.sulfur.dioxide</th>\n",
       "      <th>total.sulfur.dioxide</th>\n",
       "      <th>density</th>\n",
       "      <th>pH</th>\n",
       "      <th>sulphates</th>\n",
       "      <th>alcohol</th>\n",
       "      <th>quality</th>\n",
       "      <th>id</th>\n",
       "    </tr>\n",
       "  </thead>\n",
       "  <tbody>\n",
       "    <tr>\n",
       "      <th>fixed.acidity</th>\n",
       "      <td>1.000000</td>\n",
       "      <td>-0.018244</td>\n",
       "      <td>0.297831</td>\n",
       "      <td>0.093249</td>\n",
       "      <td>0.017633</td>\n",
       "      <td>-0.057874</td>\n",
       "      <td>0.079012</td>\n",
       "      <td>0.267259</td>\n",
       "      <td>-0.431066</td>\n",
       "      <td>-0.011915</td>\n",
       "      <td>-0.126329</td>\n",
       "      <td>-0.111060</td>\n",
       "      <td>-0.003867</td>\n",
       "    </tr>\n",
       "    <tr>\n",
       "      <th>volatile.acidity</th>\n",
       "      <td>-0.018244</td>\n",
       "      <td>1.000000</td>\n",
       "      <td>-0.140043</td>\n",
       "      <td>0.077979</td>\n",
       "      <td>0.069602</td>\n",
       "      <td>-0.096284</td>\n",
       "      <td>0.088366</td>\n",
       "      <td>0.033974</td>\n",
       "      <td>-0.045407</td>\n",
       "      <td>-0.032703</td>\n",
       "      <td>0.071912</td>\n",
       "      <td>-0.189113</td>\n",
       "      <td>0.002768</td>\n",
       "    </tr>\n",
       "    <tr>\n",
       "      <th>citric.acid</th>\n",
       "      <td>0.297831</td>\n",
       "      <td>-0.140043</td>\n",
       "      <td>1.000000</td>\n",
       "      <td>0.106384</td>\n",
       "      <td>0.109368</td>\n",
       "      <td>0.088143</td>\n",
       "      <td>0.114861</td>\n",
       "      <td>0.157975</td>\n",
       "      <td>-0.165478</td>\n",
       "      <td>0.059628</td>\n",
       "      <td>-0.077949</td>\n",
       "      <td>-0.008064</td>\n",
       "      <td>-0.012135</td>\n",
       "    </tr>\n",
       "    <tr>\n",
       "      <th>residual.sugar</th>\n",
       "      <td>0.093249</td>\n",
       "      <td>0.077979</td>\n",
       "      <td>0.106384</td>\n",
       "      <td>1.000000</td>\n",
       "      <td>0.096991</td>\n",
       "      <td>0.303088</td>\n",
       "      <td>0.411613</td>\n",
       "      <td>0.842294</td>\n",
       "      <td>-0.199808</td>\n",
       "      <td>-0.012444</td>\n",
       "      <td>-0.453181</td>\n",
       "      <td>-0.101570</td>\n",
       "      <td>-0.008736</td>\n",
       "    </tr>\n",
       "    <tr>\n",
       "      <th>chlorides</th>\n",
       "      <td>0.017633</td>\n",
       "      <td>0.069602</td>\n",
       "      <td>0.109368</td>\n",
       "      <td>0.096991</td>\n",
       "      <td>1.000000</td>\n",
       "      <td>0.101693</td>\n",
       "      <td>0.195431</td>\n",
       "      <td>0.260935</td>\n",
       "      <td>-0.086290</td>\n",
       "      <td>0.014115</td>\n",
       "      <td>-0.363394</td>\n",
       "      <td>-0.214543</td>\n",
       "      <td>-0.000853</td>\n",
       "    </tr>\n",
       "    <tr>\n",
       "      <th>free.sulfur.dioxide</th>\n",
       "      <td>-0.057874</td>\n",
       "      <td>-0.096284</td>\n",
       "      <td>0.088143</td>\n",
       "      <td>0.303088</td>\n",
       "      <td>0.101693</td>\n",
       "      <td>1.000000</td>\n",
       "      <td>0.623179</td>\n",
       "      <td>0.294149</td>\n",
       "      <td>0.004650</td>\n",
       "      <td>0.063534</td>\n",
       "      <td>-0.250605</td>\n",
       "      <td>0.002892</td>\n",
       "      <td>0.001765</td>\n",
       "    </tr>\n",
       "    <tr>\n",
       "      <th>total.sulfur.dioxide</th>\n",
       "      <td>0.079012</td>\n",
       "      <td>0.088366</td>\n",
       "      <td>0.114861</td>\n",
       "      <td>0.411613</td>\n",
       "      <td>0.195431</td>\n",
       "      <td>0.623179</td>\n",
       "      <td>1.000000</td>\n",
       "      <td>0.532155</td>\n",
       "      <td>0.002910</td>\n",
       "      <td>0.143494</td>\n",
       "      <td>-0.451141</td>\n",
       "      <td>-0.177076</td>\n",
       "      <td>-0.001720</td>\n",
       "    </tr>\n",
       "    <tr>\n",
       "      <th>density</th>\n",
       "      <td>0.267259</td>\n",
       "      <td>0.033974</td>\n",
       "      <td>0.157975</td>\n",
       "      <td>0.842294</td>\n",
       "      <td>0.260935</td>\n",
       "      <td>0.294149</td>\n",
       "      <td>0.532155</td>\n",
       "      <td>1.000000</td>\n",
       "      <td>-0.101704</td>\n",
       "      <td>0.080072</td>\n",
       "      <td>-0.778263</td>\n",
       "      <td>-0.313763</td>\n",
       "      <td>0.004997</td>\n",
       "    </tr>\n",
       "    <tr>\n",
       "      <th>pH</th>\n",
       "      <td>-0.431066</td>\n",
       "      <td>-0.045407</td>\n",
       "      <td>-0.165478</td>\n",
       "      <td>-0.199808</td>\n",
       "      <td>-0.086290</td>\n",
       "      <td>0.004650</td>\n",
       "      <td>0.002910</td>\n",
       "      <td>-0.101704</td>\n",
       "      <td>1.000000</td>\n",
       "      <td>0.151962</td>\n",
       "      <td>0.123085</td>\n",
       "      <td>0.097981</td>\n",
       "      <td>0.014263</td>\n",
       "    </tr>\n",
       "    <tr>\n",
       "      <th>sulphates</th>\n",
       "      <td>-0.011915</td>\n",
       "      <td>-0.032703</td>\n",
       "      <td>0.059628</td>\n",
       "      <td>-0.012444</td>\n",
       "      <td>0.014115</td>\n",
       "      <td>0.063534</td>\n",
       "      <td>0.143494</td>\n",
       "      <td>0.080072</td>\n",
       "      <td>0.151962</td>\n",
       "      <td>1.000000</td>\n",
       "      <td>-0.010429</td>\n",
       "      <td>0.053632</td>\n",
       "      <td>0.011202</td>\n",
       "    </tr>\n",
       "    <tr>\n",
       "      <th>alcohol</th>\n",
       "      <td>-0.126329</td>\n",
       "      <td>0.071912</td>\n",
       "      <td>-0.077949</td>\n",
       "      <td>-0.453181</td>\n",
       "      <td>-0.363394</td>\n",
       "      <td>-0.250605</td>\n",
       "      <td>-0.451141</td>\n",
       "      <td>-0.778263</td>\n",
       "      <td>0.123085</td>\n",
       "      <td>-0.010429</td>\n",
       "      <td>1.000000</td>\n",
       "      <td>0.450069</td>\n",
       "      <td>-0.019979</td>\n",
       "    </tr>\n",
       "    <tr>\n",
       "      <th>quality</th>\n",
       "      <td>-0.111060</td>\n",
       "      <td>-0.189113</td>\n",
       "      <td>-0.008064</td>\n",
       "      <td>-0.101570</td>\n",
       "      <td>-0.214543</td>\n",
       "      <td>0.002892</td>\n",
       "      <td>-0.177076</td>\n",
       "      <td>-0.313763</td>\n",
       "      <td>0.097981</td>\n",
       "      <td>0.053632</td>\n",
       "      <td>0.450069</td>\n",
       "      <td>1.000000</td>\n",
       "      <td>-0.003554</td>\n",
       "    </tr>\n",
       "    <tr>\n",
       "      <th>id</th>\n",
       "      <td>-0.003867</td>\n",
       "      <td>0.002768</td>\n",
       "      <td>-0.012135</td>\n",
       "      <td>-0.008736</td>\n",
       "      <td>-0.000853</td>\n",
       "      <td>0.001765</td>\n",
       "      <td>-0.001720</td>\n",
       "      <td>0.004997</td>\n",
       "      <td>0.014263</td>\n",
       "      <td>0.011202</td>\n",
       "      <td>-0.019979</td>\n",
       "      <td>-0.003554</td>\n",
       "      <td>1.000000</td>\n",
       "    </tr>\n",
       "  </tbody>\n",
       "</table>\n",
       "</div>"
      ],
      "text/plain": [
       "                      fixed.acidity  volatile.acidity  citric.acid  \\\n",
       "fixed.acidity              1.000000         -0.018244     0.297831   \n",
       "volatile.acidity          -0.018244          1.000000    -0.140043   \n",
       "citric.acid                0.297831         -0.140043     1.000000   \n",
       "residual.sugar             0.093249          0.077979     0.106384   \n",
       "chlorides                  0.017633          0.069602     0.109368   \n",
       "free.sulfur.dioxide       -0.057874         -0.096284     0.088143   \n",
       "total.sulfur.dioxide       0.079012          0.088366     0.114861   \n",
       "density                    0.267259          0.033974     0.157975   \n",
       "pH                        -0.431066         -0.045407    -0.165478   \n",
       "sulphates                 -0.011915         -0.032703     0.059628   \n",
       "alcohol                   -0.126329          0.071912    -0.077949   \n",
       "quality                   -0.111060         -0.189113    -0.008064   \n",
       "id                        -0.003867          0.002768    -0.012135   \n",
       "\n",
       "                      residual.sugar  chlorides  free.sulfur.dioxide  \\\n",
       "fixed.acidity               0.093249   0.017633            -0.057874   \n",
       "volatile.acidity            0.077979   0.069602            -0.096284   \n",
       "citric.acid                 0.106384   0.109368             0.088143   \n",
       "residual.sugar              1.000000   0.096991             0.303088   \n",
       "chlorides                   0.096991   1.000000             0.101693   \n",
       "free.sulfur.dioxide         0.303088   0.101693             1.000000   \n",
       "total.sulfur.dioxide        0.411613   0.195431             0.623179   \n",
       "density                     0.842294   0.260935             0.294149   \n",
       "pH                         -0.199808  -0.086290             0.004650   \n",
       "sulphates                  -0.012444   0.014115             0.063534   \n",
       "alcohol                    -0.453181  -0.363394            -0.250605   \n",
       "quality                    -0.101570  -0.214543             0.002892   \n",
       "id                         -0.008736  -0.000853             0.001765   \n",
       "\n",
       "                      total.sulfur.dioxide   density        pH  sulphates  \\\n",
       "fixed.acidity                     0.079012  0.267259 -0.431066  -0.011915   \n",
       "volatile.acidity                  0.088366  0.033974 -0.045407  -0.032703   \n",
       "citric.acid                       0.114861  0.157975 -0.165478   0.059628   \n",
       "residual.sugar                    0.411613  0.842294 -0.199808  -0.012444   \n",
       "chlorides                         0.195431  0.260935 -0.086290   0.014115   \n",
       "free.sulfur.dioxide               0.623179  0.294149  0.004650   0.063534   \n",
       "total.sulfur.dioxide              1.000000  0.532155  0.002910   0.143494   \n",
       "density                           0.532155  1.000000 -0.101704   0.080072   \n",
       "pH                                0.002910 -0.101704  1.000000   0.151962   \n",
       "sulphates                         0.143494  0.080072  0.151962   1.000000   \n",
       "alcohol                          -0.451141 -0.778263  0.123085  -0.010429   \n",
       "quality                          -0.177076 -0.313763  0.097981   0.053632   \n",
       "id                               -0.001720  0.004997  0.014263   0.011202   \n",
       "\n",
       "                       alcohol   quality        id  \n",
       "fixed.acidity        -0.126329 -0.111060 -0.003867  \n",
       "volatile.acidity      0.071912 -0.189113  0.002768  \n",
       "citric.acid          -0.077949 -0.008064 -0.012135  \n",
       "residual.sugar       -0.453181 -0.101570 -0.008736  \n",
       "chlorides            -0.363394 -0.214543 -0.000853  \n",
       "free.sulfur.dioxide  -0.250605  0.002892  0.001765  \n",
       "total.sulfur.dioxide -0.451141 -0.177076 -0.001720  \n",
       "density              -0.778263 -0.313763  0.004997  \n",
       "pH                    0.123085  0.097981  0.014263  \n",
       "sulphates            -0.010429  0.053632  0.011202  \n",
       "alcohol               1.000000  0.450069 -0.019979  \n",
       "quality               0.450069  1.000000 -0.003554  \n",
       "id                   -0.019979 -0.003554  1.000000  "
      ]
     },
     "execution_count": 8,
     "metadata": {},
     "output_type": "execute_result"
    }
   ],
   "source": [
    "data.corr()"
   ]
  },
  {
   "cell_type": "code",
   "execution_count": 9,
   "metadata": {},
   "outputs": [
    {
     "data": {
      "text/plain": [
       "<matplotlib.axes._subplots.AxesSubplot at 0x176013c27b8>"
      ]
     },
     "execution_count": 9,
     "metadata": {},
     "output_type": "execute_result"
    },
    {
     "data": {
      "image/png": "[encoded data removed]",
      "text/plain": [
       "<matplotlib.figure.Figure at 0x1760141af60>"
      ]
     },
     "metadata": {},
     "output_type": "display_data"
    }
   ],
   "source": [
    "sns.heatmap(data=data.corr(),cmap=\"coolwarm\")"
   ]
  },
  {
   "cell_type": "code",
   "execution_count": 10,
   "metadata": {},
   "outputs": [
    {
     "data": {
      "text/plain": [
       "array([6, 7, 5, 8, 4, 3, 9], dtype=int64)"
      ]
     },
     "execution_count": 10,
     "metadata": {},
     "output_type": "execute_result"
    }
   ],
   "source": [
    "data[\"quality\"].unique()"
   ]
  },
  {
   "cell_type": "code",
   "execution_count": 11,
   "metadata": {},
   "outputs": [
    {
     "data": {
      "text/plain": [
       "6    1752\n",
       "5    1163\n",
       "7     707\n",
       "8     140\n",
       "4     134\n",
       "3      17\n",
       "9       5\n",
       "Name: quality, dtype: int64"
      ]
     },
     "execution_count": 11,
     "metadata": {},
     "output_type": "execute_result"
    }
   ],
   "source": [
    "data[\"quality\"].value_counts()"
   ]
  },
  {
   "cell_type": "code",
   "execution_count": 12,
   "metadata": {
    "collapsed": true
   },
   "outputs": [],
   "source": [
    "y=data[\"quality\"]"
   ]
  },
  {
   "cell_type": "code",
   "execution_count": 13,
   "metadata": {
    "collapsed": true
   },
   "outputs": [],
   "source": [
    "data.drop(\"quality\",axis=1,inplace=True)"
   ]
  },
  {
   "cell_type": "code",
   "execution_count": 14,
   "metadata": {
    "collapsed": true
   },
   "outputs": [],
   "source": [
    "solution=pd.read_csv(\"solution.csv\")"
   ]
  },
  {
   "cell_type": "code",
   "execution_count": null,
   "metadata": {
    "collapsed": true
   },
   "outputs": [],
   "source": []
  },
  {
   "cell_type": "code",
   "execution_count": 15,
   "metadata": {},
   "outputs": [
    {
     "data": {
      "text/html": [
       "<div>\n",
       "<style>\n",
       "    .dataframe thead tr:only-child th {\n",
       "        text-align: right;\n",
       "    }\n",
       "\n",
       "    .dataframe thead th {\n",
       "        text-align: left;\n",
       "    }\n",
       "\n",
       "    .dataframe tbody tr th {\n",
       "        vertical-align: top;\n",
       "    }\n",
       "</style>\n",
       "<table border=\"1\" class=\"dataframe\">\n",
       "  <thead>\n",
       "    <tr style=\"text-align: right;\">\n",
       "      <th></th>\n",
       "      <th>fixed.acidity</th>\n",
       "      <th>volatile.acidity</th>\n",
       "      <th>citric.acid</th>\n",
       "      <th>residual.sugar</th>\n",
       "      <th>chlorides</th>\n",
       "      <th>free.sulfur.dioxide</th>\n",
       "      <th>total.sulfur.dioxide</th>\n",
       "      <th>density</th>\n",
       "      <th>pH</th>\n",
       "      <th>sulphates</th>\n",
       "      <th>alcohol</th>\n",
       "      <th>id</th>\n",
       "    </tr>\n",
       "  </thead>\n",
       "  <tbody>\n",
       "    <tr>\n",
       "      <th>0</th>\n",
       "      <td>6.7</td>\n",
       "      <td>0.29</td>\n",
       "      <td>0.45</td>\n",
       "      <td>14.3</td>\n",
       "      <td>0.054</td>\n",
       "      <td>30.0</td>\n",
       "      <td>181.0</td>\n",
       "      <td>0.99869</td>\n",
       "      <td>3.14</td>\n",
       "      <td>0.57</td>\n",
       "      <td>9.1</td>\n",
       "      <td>1</td>\n",
       "    </tr>\n",
       "    <tr>\n",
       "      <th>1</th>\n",
       "      <td>7.4</td>\n",
       "      <td>0.32</td>\n",
       "      <td>0.55</td>\n",
       "      <td>16.6</td>\n",
       "      <td>0.056</td>\n",
       "      <td>53.0</td>\n",
       "      <td>238.0</td>\n",
       "      <td>1.00170</td>\n",
       "      <td>2.96</td>\n",
       "      <td>0.58</td>\n",
       "      <td>8.7</td>\n",
       "      <td>2</td>\n",
       "    </tr>\n",
       "    <tr>\n",
       "      <th>2</th>\n",
       "      <td>7.6</td>\n",
       "      <td>0.38</td>\n",
       "      <td>0.20</td>\n",
       "      <td>3.4</td>\n",
       "      <td>0.046</td>\n",
       "      <td>9.0</td>\n",
       "      <td>116.0</td>\n",
       "      <td>0.99440</td>\n",
       "      <td>3.15</td>\n",
       "      <td>0.41</td>\n",
       "      <td>9.4</td>\n",
       "      <td>3</td>\n",
       "    </tr>\n",
       "    <tr>\n",
       "      <th>3</th>\n",
       "      <td>7.9</td>\n",
       "      <td>0.14</td>\n",
       "      <td>0.45</td>\n",
       "      <td>1.8</td>\n",
       "      <td>0.050</td>\n",
       "      <td>17.0</td>\n",
       "      <td>114.0</td>\n",
       "      <td>0.99480</td>\n",
       "      <td>3.33</td>\n",
       "      <td>0.49</td>\n",
       "      <td>10.7</td>\n",
       "      <td>4</td>\n",
       "    </tr>\n",
       "    <tr>\n",
       "      <th>4</th>\n",
       "      <td>7.9</td>\n",
       "      <td>0.16</td>\n",
       "      <td>0.30</td>\n",
       "      <td>7.4</td>\n",
       "      <td>0.050</td>\n",
       "      <td>58.0</td>\n",
       "      <td>152.0</td>\n",
       "      <td>0.99612</td>\n",
       "      <td>3.12</td>\n",
       "      <td>0.37</td>\n",
       "      <td>9.5</td>\n",
       "      <td>5</td>\n",
       "    </tr>\n",
       "  </tbody>\n",
       "</table>\n",
       "</div>"
      ],
      "text/plain": [
       "   fixed.acidity  volatile.acidity  citric.acid  residual.sugar  chlorides  \\\n",
       "0            6.7              0.29         0.45            14.3      0.054   \n",
       "1            7.4              0.32         0.55            16.6      0.056   \n",
       "2            7.6              0.38         0.20             3.4      0.046   \n",
       "3            7.9              0.14         0.45             1.8      0.050   \n",
       "4            7.9              0.16         0.30             7.4      0.050   \n",
       "\n",
       "   free.sulfur.dioxide  total.sulfur.dioxide  density    pH  sulphates  \\\n",
       "0                 30.0                 181.0  0.99869  3.14       0.57   \n",
       "1                 53.0                 238.0  1.00170  2.96       0.58   \n",
       "2                  9.0                 116.0  0.99440  3.15       0.41   \n",
       "3                 17.0                 114.0  0.99480  3.33       0.49   \n",
       "4                 58.0                 152.0  0.99612  3.12       0.37   \n",
       "\n",
       "   alcohol  id  \n",
       "0      9.1   1  \n",
       "1      8.7   2  \n",
       "2      9.4   3  \n",
       "3     10.7   4  \n",
       "4      9.5   5  "
      ]
     },
     "execution_count": 15,
     "metadata": {},
     "output_type": "execute_result"
    }
   ],
   "source": [
    "solution.head()"
   ]
  },
  {
   "cell_type": "code",
   "execution_count": 16,
   "metadata": {
    "collapsed": true
   },
   "outputs": [],
   "source": [
    "it=solution[\"id\"]"
   ]
  },
  {
   "cell_type": "code",
   "execution_count": 17,
   "metadata": {
    "collapsed": true
   },
   "outputs": [],
   "source": [
    "\n",
    "X_train,Y_train=data,y\n"
   ]
  },
  {
   "cell_type": "code",
   "execution_count": 18,
   "metadata": {},
   "outputs": [
    {
     "data": {
      "text/plain": [
       "RandomForestClassifier(bootstrap=True, class_weight=None, criterion='gini',\n",
       "            max_depth=None, max_features='auto', max_leaf_nodes=None,\n",
       "            min_impurity_decrease=0.0, min_impurity_split=None,\n",
       "            min_samples_leaf=1, min_samples_split=2,\n",
       "            min_weight_fraction_leaf=0.0, n_estimators=10, n_jobs=1,\n",
       "            oob_score=False, random_state=None, verbose=0,\n",
       "            warm_start=False)"
      ]
     },
     "execution_count": 18,
     "metadata": {},
     "output_type": "execute_result"
    }
   ],
   "source": [
    "from sklearn.ensemble import RandomForestClassifier\n",
    "model=RandomForestClassifier()\n",
    "model.fit(X_train,Y_train)"
   ]
  },
  {
   "cell_type": "code",
   "execution_count": 19,
   "metadata": {
    "collapsed": true
   },
   "outputs": [],
   "source": [
    "pre=model.predict(solution)"
   ]
  },
  {
   "cell_type": "code",
   "execution_count": 21,
   "metadata": {},
   "outputs": [],
   "source": [
    "t=pd.DataFrame(it,columns=[\"id\"])"
   ]
  },
  {
   "cell_type": "code",
   "execution_count": 22,
   "metadata": {
    "collapsed": true
   },
   "outputs": [],
   "source": [
    "pre=pd.DataFrame(pre,columns=[\"quality\"])"
   ]
  },
  {
   "cell_type": "code",
   "execution_count": null,
   "metadata": {},
   "outputs": [],
   "source": []
  },
  {
   "cell_type": "code",
   "execution_count": 24,
   "metadata": {},
   "outputs": [],
   "source": [
    "result=pd.concat([it,pre],axis=1)"
   ]
  },
  {
   "cell_type": "code",
   "execution_count": 25,
   "metadata": {},
   "outputs": [
    {
     "data": {
      "text/html": [
       "<div>\n",
       "<style>\n",
       "    .dataframe thead tr:only-child th {\n",
       "        text-align: right;\n",
       "    }\n",
       "\n",
       "    .dataframe thead th {\n",
       "        text-align: left;\n",
       "    }\n",
       "\n",
       "    .dataframe tbody tr th {\n",
       "        vertical-align: top;\n",
       "    }\n",
       "</style>\n",
       "<table border=\"1\" class=\"dataframe\">\n",
       "  <thead>\n",
       "    <tr style=\"text-align: right;\">\n",
       "      <th></th>\n",
       "      <th>id</th>\n",
       "      <th>quality</th>\n",
       "    </tr>\n",
       "  </thead>\n",
       "  <tbody>\n",
       "    <tr>\n",
       "      <th>0</th>\n",
       "      <td>1</td>\n",
       "      <td>5</td>\n",
       "    </tr>\n",
       "    <tr>\n",
       "      <th>1</th>\n",
       "      <td>2</td>\n",
       "      <td>6</td>\n",
       "    </tr>\n",
       "    <tr>\n",
       "      <th>2</th>\n",
       "      <td>3</td>\n",
       "      <td>5</td>\n",
       "    </tr>\n",
       "    <tr>\n",
       "      <th>3</th>\n",
       "      <td>4</td>\n",
       "      <td>6</td>\n",
       "    </tr>\n",
       "    <tr>\n",
       "      <th>4</th>\n",
       "      <td>5</td>\n",
       "      <td>6</td>\n",
       "    </tr>\n",
       "  </tbody>\n",
       "</table>\n",
       "</div>"
      ],
      "text/plain": [
       "   id  quality\n",
       "0   1        5\n",
       "1   2        6\n",
       "2   3        5\n",
       "3   4        6\n",
       "4   5        6"
      ]
     },
     "execution_count": 25,
     "metadata": {},
     "output_type": "execute_result"
    }
   ],
   "source": [
    "result.head()"
   ]
  },
  {
   "cell_type": "code",
   "execution_count": 26,
   "metadata": {},
   "outputs": [],
   "source": [
    "result.to_csv(\"submit.csv\",index=False)"
   ]
  },
  {
   "cell_type": "code",
   "execution_count": null,
   "metadata": {},
   "outputs": [],
   "source": []
  },
  {
   "cell_type": "code",
   "execution_count": null,
   "metadata": {
    "collapsed": true
   },
   "outputs": [],
   "source": []
  },
  {
   "cell_type": "code",
   "execution_count": null,
   "metadata": {
    "collapsed": true
   },
   "outputs": [],
   "source": []
  },
  {
   "cell_type": "code",
   "execution_count": null,
   "metadata": {
    "collapsed": true
   },
   "outputs": [],
   "source": []
  },
  {
   "cell_type": "code",
   "execution_count": null,
   "metadata": {
    "collapsed": true
   },
   "outputs": [],
   "source": []
  },
  {
   "cell_type": "code",
   "execution_count": null,
   "metadata": {
    "collapsed": true
   },
   "outputs": [],
   "source": []
  },
  {
   "cell_type": "code",
   "execution_count": null,
   "metadata": {
    "collapsed": true
   },
   "outputs": [],
   "source": []
  },
  {
   "cell_type": "code",
   "execution_count": null,
   "metadata": {
    "collapsed": true
   },
   "outputs": [],
   "source": []
  },
  {
   "cell_type": "code",
   "execution_count": null,
   "metadata": {
    "collapsed": true
   },
   "outputs": [],
   "source": []
  },
  {
   "cell_type": "code",
   "execution_count": null,
   "metadata": {
    "collapsed": true
   },
   "outputs": [],
   "source": []
  },
  {
   "cell_type": "code",
   "execution_count": null,
   "metadata": {
    "collapsed": true
   },
   "outputs": [],
   "source": []
  },
  {
   "cell_type": "code",
   "execution_count": null,
   "metadata": {
    "collapsed": true
   },
   "outputs": [],
   "source": []
  },
  {
   "cell_type": "code",
   "execution_count": null,
   "metadata": {
    "collapsed": true
   },
   "outputs": [],
   "source": []
  },
  {
   "cell_type": "code",
   "execution_count": null,
   "metadata": {
    "collapsed": true
   },
   "outputs": [],
   "source": []
  },
  {
   "cell_type": "code",
   "execution_count": null,
   "metadata": {
    "collapsed": true
   },
   "outputs": [],
   "source": []
  },
  {
   "cell_type": "code",
   "execution_count": null,
   "metadata": {
    "collapsed": true
   },
   "outputs": [],
   "source": []
  },
  {
   "cell_type": "code",
   "execution_count": null,
   "metadata": {
    "collapsed": true
   },
   "outputs": [],
   "source": []
  },
  {
   "cell_type": "code",
   "execution_count": null,
   "metadata": {
    "collapsed": true
   },
   "outputs": [],
   "source": []
  },
  {
   "cell_type": "code",
   "execution_count": null,
   "metadata": {
    "collapsed": true
   },
   "outputs": [],
   "source": []
  },
  {
   "cell_type": "code",
   "execution_count": null,
   "metadata": {
    "collapsed": true
   },
   "outputs": [],
   "source": []
  },
  {
   "cell_type": "code",
   "execution_count": null,
   "metadata": {
    "collapsed": true
   },
   "outputs": [],
   "source": []
  },
  {
   "cell_type": "code",
   "execution_count": null,
   "metadata": {
    "collapsed": true
   },
   "outputs": [],
   "source": []
  },
  {
   "cell_type": "code",
   "execution_count": null,
   "metadata": {
    "collapsed": true
   },
   "outputs": [],
   "source": []
  },
  {
   "cell_type": "code",
   "execution_count": null,
   "metadata": {
    "collapsed": true
   },
   "outputs": [],
   "source": []
  },
  {
   "cell_type": "code",
   "execution_count": null,
   "metadata": {
    "collapsed": true
   },
   "outputs": [],
   "source": []
  },
  {
   "cell_type": "code",
   "execution_count": null,
   "metadata": {
    "collapsed": true
   },
   "outputs": [],
   "source": []
  },
  {
   "cell_type": "code",
   "execution_count": null,
   "metadata": {
    "collapsed": true
   },
   "outputs": [],
   "source": []
  }
 ],
 "metadata": {
  "kernelspec": {
   "display_name": "Python 3",
   "language": "python",
   "name": "python3"
  },
  "language_info": {
   "codemirror_mode": {
    "name": "ipython",
    "version": 3
   },
   "file_extension": ".py",
   "mimetype": "text/x-python",
   "name": "python",
   "nbconvert_exporter": "python",
   "pygments_lexer": "ipython3",
   "version": "3.6.3"
  }
 },
 "nbformat": 4,
 "nbformat_minor": 2
}
